{
 "cells": [
  {
   "cell_type": "code",
   "execution_count": null,
   "id": "07c3463c-5ade-4173-93d5-214a1869766f",
   "metadata": {},
   "outputs": [],
   "source": [
    "# Goal: Analyze data on patients with diabetes to see how successful models are at predicting\n",
    "# hospital readmission within 30 days\n",
    "#\n",
    "# Models created:\n",
    "#   Logistic regression\n",
    "#   Random Forest Classifier\n",
    "#   Multilayer Perceptron\n",
    "#   Boosting\n",
    "#   K-Nearest Neighbors Classifier\n",
    "#\n",
    "# Note: Didn't do SVM because data had tons of rows and not that many predictors, which isn't\n",
    "# the best choice for SVM\n",
    "# \n",
    "# Hyperparameter Tuning using bayesian inference with scikit-optimize's BayesSearchCV\n",
    "#\n",
    "# Predictors include:\n",
    "#   time in hospital\n",
    "#   number of lab procedures, other procedures, and medications given\n",
    "#   number of diagnoses\n",
    "#   number of outpatient, emergency, and inpatient visits in the past year\n",
    "#   demographics: age, race, sex\n",
    "#   status at discharge (e.g., discharged to same/higher level of care, or discharged home/lower level of care, or left against medical advice)\n",
    "#   admission type (emergency, urgent, elective, etc)\n",
    "#   if there was a change in diabetic medications (change, no change)\n",
    "#   if diabetic medication was prescribed (Y/N)\n",
    "#   labs\n",
    "#\n",
    "# Data Source: https://archive.ics.uci.edu/dataset/296/diabetes+130-us+hospitals+for+years+1999-2008\n",
    "#\n",
    "# Part 1: Data Cleaning, Preparation, Exploration\n",
    "# Date last updated: 1/19/2024\n",
    "# Author: Kay Rubio"
   ]
  },
  {
   "cell_type": "code",
   "execution_count": 145,
   "id": "f3f58af3-fcf5-45c2-87de-fc1dbdd0be75",
   "metadata": {},
   "outputs": [],
   "source": [
    "import joblib\n",
    "import matplotlib.pyplot as plt\n",
    "import numpy as np\n",
    "import pandas as pd\n",
    "import seaborn as sns\n",
    "from sklearn.ensemble import GradientBoostingClassifier\n",
    "from sklearn.ensemble import RandomForestClassifier\n",
    "from sklearn.linear_model import LogisticRegression\n",
    "from sklearn.metrics import accuracy_score, precision_score, recall_score\n",
    "from sklearn.metrics import confusion_matrix\n",
    "from sklearn.neighbors import KNeighborsClassifier\n",
    "from sklearn.neural_network import MLPClassifier\n",
    "from skopt import BayesSearchCV\n",
    "import time\n",
    "# ignore future warnings that aren't necessary for this project\n",
    "import warnings\n",
    "warnings.filterwarnings(\"ignore\", category=FutureWarning)\n"
   ]
  },
  {
   "cell_type": "code",
   "execution_count": 55,
   "id": "a9151286-e720-4039-accf-ce70379130b6",
   "metadata": {},
   "outputs": [],
   "source": [
    "# import data built during data preparation (see separate notebook)\n",
    "x_train = pd.read_csv(\"./x_train.csv\")\n",
    "y_train = pd.read_csv(\"./y_train.csv\")\n",
    "x_test = pd.read_csv(\"./x_test.csv\")\n",
    "y_test = pd.read_csv(\"./y_test.csv\")\n",
    "x_train_reduced = pd.read_csv(\"./x_train_reduced.csv\")\n",
    "x_test_reduced = pd.read_csv(\"./x_test_reduced.csv\")"
   ]
  },
  {
   "cell_type": "code",
   "execution_count": 56,
   "id": "72f6f098-b072-4501-87a9-1909b02bb90d",
   "metadata": {},
   "outputs": [],
   "source": [
    "# drop the ID columns from the datasets\n",
    "x_train.drop('Unnamed: 0', axis=1, inplace=True) \n",
    "y_train.drop('Unnamed: 0', axis=1, inplace=True) \n",
    "x_test.drop('Unnamed: 0', axis=1, inplace=True) \n",
    "y_test.drop('Unnamed: 0', axis=1, inplace=True) \n",
    "x_train_reduced.drop('Unnamed: 0', axis=1, inplace=True) \n",
    "x_test_reduced.drop('Unnamed: 0', axis=1, inplace=True)"
   ]
  },
  {
   "cell_type": "code",
   "execution_count": 57,
   "id": "74c18e41-bf00-4a00-bd69-7302fee88630",
   "metadata": {},
   "outputs": [
    {
     "data": {
      "text/html": [
       "<div>\n",
       "<style scoped>\n",
       "    .dataframe tbody tr th:only-of-type {\n",
       "        vertical-align: middle;\n",
       "    }\n",
       "\n",
       "    .dataframe tbody tr th {\n",
       "        vertical-align: top;\n",
       "    }\n",
       "\n",
       "    .dataframe thead th {\n",
       "        text-align: right;\n",
       "    }\n",
       "</style>\n",
       "<table border=\"1\" class=\"dataframe\">\n",
       "  <thead>\n",
       "    <tr style=\"text-align: right;\">\n",
       "      <th></th>\n",
       "      <th>readmitted2</th>\n",
       "    </tr>\n",
       "  </thead>\n",
       "  <tbody>\n",
       "    <tr>\n",
       "      <th>0</th>\n",
       "      <td>0</td>\n",
       "    </tr>\n",
       "    <tr>\n",
       "      <th>1</th>\n",
       "      <td>0</td>\n",
       "    </tr>\n",
       "    <tr>\n",
       "      <th>2</th>\n",
       "      <td>1</td>\n",
       "    </tr>\n",
       "    <tr>\n",
       "      <th>3</th>\n",
       "      <td>0</td>\n",
       "    </tr>\n",
       "    <tr>\n",
       "      <th>4</th>\n",
       "      <td>0</td>\n",
       "    </tr>\n",
       "  </tbody>\n",
       "</table>\n",
       "</div>"
      ],
      "text/plain": [
       "   readmitted2\n",
       "0            0\n",
       "1            0\n",
       "2            1\n",
       "3            0\n",
       "4            0"
      ]
     },
     "execution_count": 57,
     "metadata": {},
     "output_type": "execute_result"
    }
   ],
   "source": [
    "y_train.head()"
   ]
  },
  {
   "cell_type": "code",
   "execution_count": 58,
   "id": "f0cbd281-e112-42e3-8a72-dad5eb4f808f",
   "metadata": {},
   "outputs": [],
   "source": [
    "y_train_array = y_train['readmitted2'].to_numpy().tolist();\n",
    "y_test_array = y_test['readmitted2'].to_numpy().tolist();\n",
    "# print(y_train_array)"
   ]
  },
  {
   "cell_type": "code",
   "execution_count": null,
   "id": "b47312f5-317b-4858-879f-9d1396bdd164",
   "metadata": {},
   "outputs": [],
   "source": [
    "# Model #1a: Logistic Regression without hyperparameter tuning or cross-validation\n",
    "# Although the data isn't perfect for this (some continuous variables are not normally distributed, \n",
    "# there are issues with outliers, and imbalanced categories, lets start with this as a baseline model\n",
    "# on the reduced dataset"
   ]
  },
  {
   "cell_type": "code",
   "execution_count": 99,
   "id": "c0fbee32-7d3d-4f2c-b285-71e238186f3b",
   "metadata": {},
   "outputs": [],
   "source": [
    "# Learn some information about the model\n",
    "# print(help(LogisticRegression))\n",
    "# dir(LogisticRegression)"
   ]
  },
  {
   "cell_type": "code",
   "execution_count": 59,
   "id": "648c74e5-495c-406c-af0b-efdde80124d5",
   "metadata": {},
   "outputs": [],
   "source": [
    "lr = LogisticRegression(max_iter=1000).fit(x_train_reduced, y_train_array)\n",
    "y_pred_lr = lr.predict(x_test_reduced) # get the predicted y-values"
   ]
  },
  {
   "cell_type": "code",
   "execution_count": 63,
   "id": "10d0c110-0435-45ba-af81-a14d0b6fc624",
   "metadata": {},
   "outputs": [
    {
     "name": "stdout",
     "output_type": "stream",
     "text": [
      "In the true data, 2812 were readmitted, while 22177 were not\n"
     ]
    }
   ],
   "source": [
    "print('In the true data, ' + str(y_test_array.count(1)) + ' were readmitted, while ' + str(y_test_array.count(0)) + ' were not')"
   ]
  },
  {
   "cell_type": "code",
   "execution_count": 65,
   "id": "5451d5b4-5363-44fc-aefc-512d1517b134",
   "metadata": {},
   "outputs": [
    {
     "name": "stdout",
     "output_type": "stream",
     "text": [
      "The model predicted that, 84 were readmitted, while 24905 were not\n"
     ]
    }
   ],
   "source": [
    "print('The model predicted that, ' + str(y_pred_lr.tolist().count(1)) + ' were readmitted, while ' + str(y_pred_lr.tolist().count(0)) + ' were not')"
   ]
  },
  {
   "cell_type": "code",
   "execution_count": 90,
   "id": "1079b1f2-9dd5-4bf3-8a9b-c733945a5f80",
   "metadata": {},
   "outputs": [
    {
     "data": {
      "image/png": "[encoded data removed]",
      "text/plain": [
       "<Figure size 640x480 with 2 Axes>"
      ]
     },
     "metadata": {},
     "output_type": "display_data"
    }
   ],
   "source": [
    "def confusionMatrix(y_pred):\n",
    "    cmat = confusion_matrix(y_test_array, y_pred)\n",
    "    ax = plt.axes()\n",
    "    sns.heatmap(cmat, ax = ax,annot=True , fmt = '.4g')\n",
    "    plt.xlabel('Predicted Label')\n",
    "    plt.ylabel('True Label')\n",
    "    plt.title('Confusion Matrix')\n",
    "    plt.show()\n",
    "confusionMatrix(y_pred_lr)"
   ]
  },
  {
   "cell_type": "code",
   "execution_count": null,
   "id": "bcd619ea-5a9b-4d94-b22c-12f612d41963",
   "metadata": {},
   "outputs": [],
   "source": [
    "# True negatives (pts who were NOT readmitted in 30 days): 22133\n",
    "# True positives (pts who were readmitted in 30 days): 40\n",
    "# False negatives (pts predicted to NOT be readmitted but who did get readmitted in 30 days): 2772\n",
    "# False positives (pts predicted to be readmitted who did NOT get readmitted in 30 days): 44\n",
    "#\n",
    "# If the goal is to identify people at risk of readmission and give them more support to help prevent \n",
    "# readmission, you probably want to err on the side of caution, with higher false positive rate than \n",
    "# false negative rate. However, this model has a lot more error in false negatives - these are pts who \n",
    "# did get readmitted but model didn’t predict that. "
   ]
  },
  {
   "cell_type": "code",
   "execution_count": 93,
   "id": "9812d1c6-9911-421e-8c94-ad701370db3a",
   "metadata": {},
   "outputs": [
    {
     "name": "stdout",
     "output_type": "stream",
     "text": [
      "Logistic Regression found accuracy: 88.731%, precision: 47.619%, recall: 1.422%\n"
     ]
    }
   ],
   "source": [
    "def describeModelResults(Mdl, y_pred):\n",
    "    accuracy = round(accuracy_score(y_test_array, y_pred)*100, 3)\n",
    "    precision = round(precision_score(y_test_array, y_pred)*100, 3)\n",
    "    recall = round(recall_score(y_test_array, y_pred)*100, 3)\n",
    "    print('{} found accuracy: {}%, precision: {}%, recall: {}%'.format(Mdl, accuracy, precision, recall));\n",
    "\n",
    "describeModelResults('Logistic Regression', y_pred_lr)"
   ]
  },
  {
   "cell_type": "code",
   "execution_count": 75,
   "id": "c480963a-e04e-45d2-aa33-9436c046ce5a",
   "metadata": {},
   "outputs": [],
   "source": [
    "# Accuracy = number predicted correctly / total number of examples\n",
    "#   88% accuracy sounds good, but not when you see that in the real data 88% percent were not readmitted\n",
    "#   so if the model had just predicted that no one was readmitted, it would have been 88% accurate. \n",
    "#   The model was more nuanced than this, and did predict that some people were readmitted, but not well.\n",
    "#\n",
    "# Precision in binary outcome = \n",
    "#\tprecision: true positives / number of results the model predicted as positive\n",
    "#\tif false positives are really bad - optimize model for precision\n",
    "#\t48% precision - when the model identified readmission, 47% were readmitted\n",
    "#\n",
    "# Recall in binary outcome = \n",
    "#\trecall: true positives / number of positive results in test data(regardless of models predictions) \n",
    "#\tif false negatives are really bad- optimize models for recall\n",
    "#\t1% recall means that model only predicted 1% of people who were readmitted as going to be readmitted\n",
    "# \n",
    "# In this example, I'd probably want to minimize false negatives, so I want to see good recall.  But \n",
    "# this model's recall was pretty bad - missed a lot of people at risk of readmission.\n",
    "# Some improvements could be made by transforming predictors for more normal distributions, checking outliers,\n",
    "# but the biggest problem is probably that the outcome is very imbalanced, and logistic regression tends to \n",
    "# favors the majority category in its predictions"
   ]
  },
  {
   "cell_type": "code",
   "execution_count": 97,
   "id": "11ad1250-0340-4b23-bf9b-6f8505947817",
   "metadata": {},
   "outputs": [
    {
     "name": "stdout",
     "output_type": "stream",
     "text": [
      "time_in_hospital: 0.015037628374623888\n",
      "num_lab_procedures: 0.0004339659635814846\n",
      "num_procedures: -0.01516361367952726\n",
      "num_medications: 0.005745663001898413\n",
      "number_outpatient: -0.005218927181843364\n",
      "number_emergency: 0.03594259105397109\n",
      "number_inpatient: 0.2684397727417498\n",
      "number_diagnoses: 0.036263292642722524\n",
      "age2: 0.001624062888053533\n",
      "discharge_disposition_id2: 0.43418954989377084\n",
      "admission_type_id2: -0.01213764363979884\n",
      "metformin2: -0.06997333816873916\n",
      "repaglinide2: 0.031829485707096226\n",
      "pioglitazone2: -0.0472653604576062\n",
      "insulin2: -0.018356372071118607\n",
      "change2: 0.034950198622645284\n",
      "diabetesMed2: 0.19861216779780977\n",
      "Intercept: [-3.03940826]\n"
     ]
    }
   ],
   "source": [
    "# Get the coefficients for each predictor and intercept\n",
    "coefficients = lr.coef_\n",
    "intercept = lr.intercept_\n",
    "\n",
    "# Display the coefficients for each feature - higher values indicate stronger relationships\n",
    "for feature, coef in zip(x_train_reduced.columns, coefficients[0]):\n",
    "    print(f\"{feature}: {coef}\")\n",
    "\n",
    "# Display the intercept\n",
    "print(f\"Intercept: {intercept}\")"
   ]
  },
  {
   "cell_type": "code",
   "execution_count": null,
   "id": "ace8a8ae-5eed-4d4c-a9f7-beddd23e962a",
   "metadata": {},
   "outputs": [],
   "source": [
    "# To summarize some of the above, the 3 strongest predictors and the direction of relationships:\n",
    "#   discharge disposition, discharged to a higher level of care (coded as 1) was more likely to be readmitted within 30 days\n",
    "#   number of inpatient visits in past year, where the higher the number of visits, the more likely to be readmitted in 30 days\n",
    "#   diabetes med - if there was a change (coded as 1) they were more likely to be readmitted within 30 days\n",
    "# \n",
    "# Note: if I were to further tune the model, I could cut out those with weaker relationships.  Since this package doesn't\n",
    "#    provide p-values for individual predictors, I can't assess which predictors were significant in the model, but I could \n",
    "#    try other statistical packages that provide more details"
   ]
  },
  {
   "cell_type": "code",
   "execution_count": 86,
   "id": "cf3cf21b-c787-483a-84bf-de7102ea0214",
   "metadata": {},
   "outputs": [
    {
     "name": "stderr",
     "output_type": "stream",
     "text": [
      "/Library/Frameworks/Python.framework/Versions/3.9/lib/python3.9/site-packages/skopt/optimizer/optimizer.py:449: UserWarning: The objective has been evaluated at this point before.\n",
      "  warnings.warn(\"The objective has been evaluated \"\n",
      "/Library/Frameworks/Python.framework/Versions/3.9/lib/python3.9/site-packages/skopt/optimizer/optimizer.py:449: UserWarning: The objective has been evaluated at this point before.\n",
      "  warnings.warn(\"The objective has been evaluated \"\n"
     ]
    }
   ],
   "source": [
    "# Model #1b: Logistic Regression WITH hyperparameter tuning and 3-fold cross-validation\n",
    "#\n",
    "# use BayesSearchCV to wrap the model, giving it different hyperparameters to try out\n",
    "# in logistic regression, try different C values, a regularization parameter that helps with over/under fitting\n",
    "# default is 1\n",
    "# Also setting cv to 3, which means in cross fold validation, the data will be divided into 3 parts, 2 parts \n",
    "# to be used as train data, and 1 part for test, then it will rotate to use the other 2 parts as train and the third\n",
    "# as test. Helps reduce over fitting. \n",
    "lr2 = BayesSearchCV(\n",
    "    LogisticRegression(),\n",
    "    {\n",
    "        'C': (0.001, 0.01, 0.1, 1, 10, 100, 1000),\n",
    "        # 'C': (1e-6, 1e+6, 'log-uniform), # another option for hyperparameter tuning\n",
    "        'max_iter': (1000)\n",
    "    },\n",
    "    n_iter=32,\n",
    "    cv=3\n",
    ")\n",
    "\n",
    "# fit the model to the data\n",
    "np.int = int # seems to be some error related to skopt using np.int but np.int is deprecated in newer versions of numpy\n",
    "try:\n",
    "    lr2.fit(x_train_reduced, y_train_array)\n",
    "except Exception as e:\n",
    "    print(\"Error:\", e)"
   ]
  },
  {
   "cell_type": "code",
   "execution_count": 88,
   "id": "f6f19b88-b1f9-4f8e-bb84-ba2cacc008b4",
   "metadata": {},
   "outputs": [],
   "source": [
    "y_pred_lr_2 = lr2.predict(x_test_reduced) # get the predicted y-values"
   ]
  },
  {
   "cell_type": "code",
   "execution_count": 94,
   "id": "85d6f073-27b0-492d-9215-c6dd84631027",
   "metadata": {},
   "outputs": [
    {
     "data": {
      "image/png": "[encoded data removed]",
      "text/plain": [
       "<Figure size 640x480 with 2 Axes>"
      ]
     },
     "metadata": {},
     "output_type": "display_data"
    }
   ],
   "source": [
    "confusionMatrix(y_pred_lr_2)"
   ]
  },
  {
   "cell_type": "code",
   "execution_count": 95,
   "id": "3f3e67a6-8ea2-408c-aea2-eb4c5f203567",
   "metadata": {},
   "outputs": [
    {
     "name": "stdout",
     "output_type": "stream",
     "text": [
      "Logistic Regression with hyperparameter tuning found accuracy: 88.727%, precision: 46.988%, recall: 1.387%\n"
     ]
    }
   ],
   "source": [
    "describeModelResults('Logistic Regression with hyperparameter tuning', y_pred_lr_2)"
   ]
  },
  {
   "cell_type": "code",
   "execution_count": null,
   "id": "0df55dc8-d6a2-4415-838c-4de57b78b06c",
   "metadata": {},
   "outputs": [],
   "source": [
    "# With hyperparameter tuning and CV, the model was slightly less accurate, slightly worse precision, and\n",
    "# slightly worse recall than the original logistic regression model. Ouch. Lets try some other models"
   ]
  },
  {
   "cell_type": "code",
   "execution_count": null,
   "id": "3898801e-dab5-45e7-a026-b32eb2eeb518",
   "metadata": {},
   "outputs": [],
   "source": [
    "# Model #2: Random Forest Classifier\n",
    "# print some info about the model\n",
    "# print(help(RandomForestClassifier))"
   ]
  },
  {
   "cell_type": "code",
   "execution_count": 102,
   "id": "3edbd95f-0957-4b90-b6ed-e6eac2e9dc6b",
   "metadata": {},
   "outputs": [
    {
     "name": "stderr",
     "output_type": "stream",
     "text": [
      "/Library/Frameworks/Python.framework/Versions/3.9/lib/python3.9/site-packages/skopt/optimizer/optimizer.py:449: UserWarning: The objective has been evaluated at this point before.\n",
      "  warnings.warn(\"The objective has been evaluated \"\n",
      "/Library/Frameworks/Python.framework/Versions/3.9/lib/python3.9/site-packages/skopt/optimizer/optimizer.py:449: UserWarning: The objective has been evaluated at this point before.\n",
      "  warnings.warn(\"The objective has been evaluated \"\n",
      "/Library/Frameworks/Python.framework/Versions/3.9/lib/python3.9/site-packages/skopt/optimizer/optimizer.py:449: UserWarning: The objective has been evaluated at this point before.\n",
      "  warnings.warn(\"The objective has been evaluated \"\n",
      "/Library/Frameworks/Python.framework/Versions/3.9/lib/python3.9/site-packages/skopt/optimizer/optimizer.py:449: UserWarning: The objective has been evaluated at this point before.\n",
      "  warnings.warn(\"The objective has been evaluated \"\n",
      "/Library/Frameworks/Python.framework/Versions/3.9/lib/python3.9/site-packages/skopt/optimizer/optimizer.py:449: UserWarning: The objective has been evaluated at this point before.\n",
      "  warnings.warn(\"The objective has been evaluated \"\n",
      "/Library/Frameworks/Python.framework/Versions/3.9/lib/python3.9/site-packages/skopt/optimizer/optimizer.py:449: UserWarning: The objective has been evaluated at this point before.\n",
      "  warnings.warn(\"The objective has been evaluated \"\n",
      "/Library/Frameworks/Python.framework/Versions/3.9/lib/python3.9/site-packages/skopt/optimizer/optimizer.py:449: UserWarning: The objective has been evaluated at this point before.\n",
      "  warnings.warn(\"The objective has been evaluated \"\n",
      "/Library/Frameworks/Python.framework/Versions/3.9/lib/python3.9/site-packages/skopt/optimizer/optimizer.py:449: UserWarning: The objective has been evaluated at this point before.\n",
      "  warnings.warn(\"The objective has been evaluated \"\n",
      "/Library/Frameworks/Python.framework/Versions/3.9/lib/python3.9/site-packages/skopt/optimizer/optimizer.py:449: UserWarning: The objective has been evaluated at this point before.\n",
      "  warnings.warn(\"The objective has been evaluated \"\n",
      "/Library/Frameworks/Python.framework/Versions/3.9/lib/python3.9/site-packages/skopt/optimizer/optimizer.py:449: UserWarning: The objective has been evaluated at this point before.\n",
      "  warnings.warn(\"The objective has been evaluated \"\n",
      "/Library/Frameworks/Python.framework/Versions/3.9/lib/python3.9/site-packages/skopt/optimizer/optimizer.py:449: UserWarning: The objective has been evaluated at this point before.\n",
      "  warnings.warn(\"The objective has been evaluated \"\n",
      "/Library/Frameworks/Python.framework/Versions/3.9/lib/python3.9/site-packages/skopt/optimizer/optimizer.py:449: UserWarning: The objective has been evaluated at this point before.\n",
      "  warnings.warn(\"The objective has been evaluated \"\n",
      "/Library/Frameworks/Python.framework/Versions/3.9/lib/python3.9/site-packages/skopt/optimizer/optimizer.py:449: UserWarning: The objective has been evaluated at this point before.\n",
      "  warnings.warn(\"The objective has been evaluated \"\n",
      "/Library/Frameworks/Python.framework/Versions/3.9/lib/python3.9/site-packages/skopt/optimizer/optimizer.py:449: UserWarning: The objective has been evaluated at this point before.\n",
      "  warnings.warn(\"The objective has been evaluated \"\n"
     ]
    },
    {
     "data": {
      "text/html": [
       "<style>#sk-container-id-1 {color: black;}#sk-container-id-1 pre{padding: 0;}#sk-container-id-1 div.sk-toggleable {background-color: white;}#sk-container-id-1 label.sk-toggleable__label {cursor: pointer;display: block;width: 100%;margin-bottom: 0;padding: 0.3em;box-sizing: border-box;text-align: center;}#sk-container-id-1 label.sk-toggleable__label-arrow:before {content: \"▸\";float: left;margin-right: 0.25em;color: #696969;}#sk-container-id-1 label.sk-toggleable__label-arrow:hover:before {color: black;}#sk-container-id-1 div.sk-estimator:hover label.sk-toggleable__label-arrow:before {color: black;}#sk-container-id-1 div.sk-toggleable__content {max-height: 0;max-width: 0;overflow: hidden;text-align: left;background-color: #f0f8ff;}#sk-container-id-1 div.sk-toggleable__content pre {margin: 0.2em;color: black;border-radius: 0.25em;background-color: #f0f8ff;}#sk-container-id-1 input.sk-toggleable__control:checked~div.sk-toggleable__content {max-height: 200px;max-width: 100%;overflow: auto;}#sk-container-id-1 input.sk-toggleable__control:checked~label.sk-toggleable__label-arrow:before {content: \"▾\";}#sk-container-id-1 div.sk-estimator input.sk-toggleable__control:checked~label.sk-toggleable__label {background-color: #d4ebff;}#sk-container-id-1 div.sk-label input.sk-toggleable__control:checked~label.sk-toggleable__label {background-color: #d4ebff;}#sk-container-id-1 input.sk-hidden--visually {border: 0;clip: rect(1px 1px 1px 1px);clip: rect(1px, 1px, 1px, 1px);height: 1px;margin: -1px;overflow: hidden;padding: 0;position: absolute;width: 1px;}#sk-container-id-1 div.sk-estimator {font-family: monospace;background-color: #f0f8ff;border: 1px dotted black;border-radius: 0.25em;box-sizing: border-box;margin-bottom: 0.5em;}#sk-container-id-1 div.sk-estimator:hover {background-color: #d4ebff;}#sk-container-id-1 div.sk-parallel-item::after {content: \"\";width: 100%;border-bottom: 1px solid gray;flex-grow: 1;}#sk-container-id-1 div.sk-label:hover label.sk-toggleable__label {background-color: #d4ebff;}#sk-container-id-1 div.sk-serial::before {content: \"\";position: absolute;border-left: 1px solid gray;box-sizing: border-box;top: 0;bottom: 0;left: 50%;z-index: 0;}#sk-container-id-1 div.sk-serial {display: flex;flex-direction: column;align-items: center;background-color: white;padding-right: 0.2em;padding-left: 0.2em;position: relative;}#sk-container-id-1 div.sk-item {position: relative;z-index: 1;}#sk-container-id-1 div.sk-parallel {display: flex;align-items: stretch;justify-content: center;background-color: white;position: relative;}#sk-container-id-1 div.sk-item::before, #sk-container-id-1 div.sk-parallel-item::before {content: \"\";position: absolute;border-left: 1px solid gray;box-sizing: border-box;top: 0;bottom: 0;left: 50%;z-index: -1;}#sk-container-id-1 div.sk-parallel-item {display: flex;flex-direction: column;z-index: 1;position: relative;background-color: white;}#sk-container-id-1 div.sk-parallel-item:first-child::after {align-self: flex-end;width: 50%;}#sk-container-id-1 div.sk-parallel-item:last-child::after {align-self: flex-start;width: 50%;}#sk-container-id-1 div.sk-parallel-item:only-child::after {width: 0;}#sk-container-id-1 div.sk-dashed-wrapped {border: 1px dashed gray;margin: 0 0.4em 0.5em 0.4em;box-sizing: border-box;padding-bottom: 0.4em;background-color: white;}#sk-container-id-1 div.sk-label label {font-family: monospace;font-weight: bold;display: inline-block;line-height: 1.2em;}#sk-container-id-1 div.sk-label-container {text-align: center;}#sk-container-id-1 div.sk-container {/* jupyter's `normalize.less` sets `[hidden] { display: none; }` but bootstrap.min.css set `[hidden] { display: none !important; }` so we also need the `!important` here to be able to override the default hidden behavior on the sphinx rendered scikit-learn.org. See: https://github.com/scikit-learn/scikit-learn/issues/21755 */display: inline-block !important;position: relative;}#sk-container-id-1 div.sk-text-repr-fallback {display: none;}</style><div id=\"sk-container-id-1\" class=\"sk-top-container\"><div class=\"sk-text-repr-fallback\"><pre>BayesSearchCV(cv=3, estimator=RandomForestClassifier(), n_iter=32,\n",
       "              search_spaces={&#x27;max_depth&#x27;: (2, 10, 20, None),\n",
       "                             &#x27;n_estimators&#x27;: (5, 50, 100)})</pre><b>In a Jupyter environment, please rerun this cell to show the HTML representation or trust the notebook. <br />On GitHub, the HTML representation is unable to render, please try loading this page with nbviewer.org.</b></div><div class=\"sk-container\" hidden><div class=\"sk-item sk-dashed-wrapped\"><div class=\"sk-label-container\"><div class=\"sk-label sk-toggleable\"><input class=\"sk-toggleable__control sk-hidden--visually\" id=\"sk-estimator-id-1\" type=\"checkbox\" ><label for=\"sk-estimator-id-1\" class=\"sk-toggleable__label sk-toggleable__label-arrow\">BayesSearchCV</label><div class=\"sk-toggleable__content\"><pre>BayesSearchCV(cv=3, estimator=RandomForestClassifier(), n_iter=32,\n",
       "              search_spaces={&#x27;max_depth&#x27;: (2, 10, 20, None),\n",
       "                             &#x27;n_estimators&#x27;: (5, 50, 100)})</pre></div></div></div><div class=\"sk-parallel\"><div class=\"sk-parallel-item\"><div class=\"sk-item\"><div class=\"sk-label-container\"><div class=\"sk-label sk-toggleable\"><input class=\"sk-toggleable__control sk-hidden--visually\" id=\"sk-estimator-id-2\" type=\"checkbox\" ><label for=\"sk-estimator-id-2\" class=\"sk-toggleable__label sk-toggleable__label-arrow\">estimator: RandomForestClassifier</label><div class=\"sk-toggleable__content\"><pre>RandomForestClassifier()</pre></div></div></div><div class=\"sk-serial\"><div class=\"sk-item\"><div class=\"sk-estimator sk-toggleable\"><input class=\"sk-toggleable__control sk-hidden--visually\" id=\"sk-estimator-id-3\" type=\"checkbox\" ><label for=\"sk-estimator-id-3\" class=\"sk-toggleable__label sk-toggleable__label-arrow\">RandomForestClassifier</label><div class=\"sk-toggleable__content\"><pre>RandomForestClassifier()</pre></div></div></div></div></div></div></div></div></div></div>"
      ],
      "text/plain": [
       "BayesSearchCV(cv=3, estimator=RandomForestClassifier(), n_iter=32,\n",
       "              search_spaces={'max_depth': (2, 10, 20, None),\n",
       "                             'n_estimators': (5, 50, 100)})"
      ]
     },
     "execution_count": 102,
     "metadata": {},
     "output_type": "execute_result"
    }
   ],
   "source": [
    "# took less than 5 min to run on my laptop\n",
    "# will try it on the reduced training data with only predictors with some correlation to outcome for now\n",
    "#\n",
    "# use BayesSearchCV to wrap the model, giving it different hyperparameters to try out\n",
    "# in random forest, try different number of estimators (number of trees) and different\n",
    "# max depths of those trees \n",
    "#\n",
    "# Also setting cv to 3, which means in cross fold validation, the data will be divided into 3 parts, 2 parts \n",
    "# to be used as train data, and 1 part for test, then it will rotate to use the other 2 parts as train and the third\n",
    "# as test. Helps reduce over fitting. \n",
    "rf = BayesSearchCV(\n",
    "    RandomForestClassifier(),\n",
    "    {\n",
    "        'n_estimators': (5, 50, 100),\n",
    "        'max_depth': (2, 10, 20, None)\n",
    "    },\n",
    "    n_iter=32,\n",
    "    cv=3\n",
    ")\n",
    "\n",
    "# fit the model to the data\n",
    "np.int = int # some error related to skopt using np.int but np.int is deprecated in newer versions of numpy\n",
    "rf.fit(x_train_reduced, y_train_array)"
   ]
  },
  {
   "cell_type": "code",
   "execution_count": 103,
   "id": "79ee96d7-5aad-454a-8ebe-523a6f820738",
   "metadata": {},
   "outputs": [
    {
     "name": "stdout",
     "output_type": "stream",
     "text": [
      "OrderedDict([('max_depth', 10), ('n_estimators', 50)])\n"
     ]
    }
   ],
   "source": [
    "# What were the best parameters it found?\n",
    "print(rf.best_params_)"
   ]
  },
  {
   "cell_type": "code",
   "execution_count": 106,
   "id": "f1f73993-38e3-4c95-8373-a2d0dff2ad22",
   "metadata": {},
   "outputs": [
    {
     "name": "stdout",
     "output_type": "stream",
     "text": [
      "0.886 (+/-0.0) for OrderedDict([('max_depth', 2), ('n_estimators', 5)])\n",
      "0.886 (+/-0.0) for OrderedDict([('max_depth', 10), ('n_estimators', 50)])\n",
      "0.886 (+/-0.0) for OrderedDict([('max_depth', 10), ('n_estimators', 50)])\n",
      "0.886 (+/-0.0) for OrderedDict([('max_depth', 10), ('n_estimators', 50)])\n",
      "0.886 (+/-0.0) for OrderedDict([('max_depth', 10), ('n_estimators', 50)])\n",
      "0.886 (+/-0.0) for OrderedDict([('max_depth', 10), ('n_estimators', 50)])\n",
      "0.886 (+/-0.0) for OrderedDict([('max_depth', 10), ('n_estimators', 50)])\n",
      "0.886 (+/-0.0) for OrderedDict([('max_depth', 10), ('n_estimators', 100)])\n",
      "0.886 (+/-0.0) for OrderedDict([('max_depth', 10), ('n_estimators', 50)])\n",
      "0.886 (+/-0.0) for OrderedDict([('max_depth', 20), ('n_estimators', 50)])\n",
      "0.865 (+/-0.001) for OrderedDict([('max_depth', None), ('n_estimators', 5)])\n",
      "0.886 (+/-0.0) for OrderedDict([('max_depth', 2), ('n_estimators', 50)])\n",
      "0.886 (+/-0.001) for OrderedDict([('max_depth', 20), ('n_estimators', 50)])\n",
      "0.886 (+/-0.0) for OrderedDict([('max_depth', 10), ('n_estimators', 50)])\n",
      "0.885 (+/-0.0) for OrderedDict([('max_depth', 20), ('n_estimators', 50)])\n",
      "0.866 (+/-0.002) for OrderedDict([('max_depth', None), ('n_estimators', 5)])\n",
      "0.875 (+/-0.004) for OrderedDict([('max_depth', 20), ('n_estimators', 5)])\n",
      "0.886 (+/-0.0) for OrderedDict([('max_depth', 2), ('n_estimators', 100)])\n",
      "0.886 (+/-0.0) for OrderedDict([('max_depth', 10), ('n_estimators', 5)])\n",
      "0.886 (+/-0.0) for OrderedDict([('max_depth', 20), ('n_estimators', 100)])\n",
      "0.886 (+/-0.0) for OrderedDict([('max_depth', 2), ('n_estimators', 100)])\n",
      "0.885 (+/-0.0) for OrderedDict([('max_depth', None), ('n_estimators', 100)])\n",
      "0.885 (+/-0.0) for OrderedDict([('max_depth', None), ('n_estimators', 50)])\n",
      "0.886 (+/-0.0) for OrderedDict([('max_depth', 20), ('n_estimators', 100)])\n",
      "0.886 (+/-0.0) for OrderedDict([('max_depth', 2), ('n_estimators', 50)])\n",
      "0.886 (+/-0.0) for OrderedDict([('max_depth', 10), ('n_estimators', 100)])\n",
      "0.886 (+/-0.0) for OrderedDict([('max_depth', 20), ('n_estimators', 50)])\n",
      "0.886 (+/-0.0) for OrderedDict([('max_depth', 2), ('n_estimators', 5)])\n",
      "0.886 (+/-0.0) for OrderedDict([('max_depth', 10), ('n_estimators', 50)])\n",
      "0.885 (+/-0.0) for OrderedDict([('max_depth', 10), ('n_estimators', 5)])\n",
      "0.885 (+/-0.001) for OrderedDict([('max_depth', 10), ('n_estimators', 5)])\n",
      "0.886 (+/-0.0) for OrderedDict([('max_depth', 20), ('n_estimators', 100)])\n"
     ]
    }
   ],
   "source": [
    "# Check results of all hyperparameter combos that BayesSearchCV checked\n",
    "means = rf.cv_results_['mean_test_score']\n",
    "stds = rf.cv_results_['std_test_score']\n",
    "for mean, std, params in zip(means, stds, rf.cv_results_['params']):\n",
    "\tprint('{} (+/-{}) for {}'.format(round(mean, 3), round(std * 2, 3), params))"
   ]
  },
  {
   "cell_type": "code",
   "execution_count": null,
   "id": "3413a2e9-1ce3-4657-9863-425db2effcaa",
   "metadata": {},
   "outputs": [],
   "source": [
    "# These all look really similar, but max-depth: 10, and n_estimators: 50 was the best"
   ]
  },
  {
   "cell_type": "code",
   "execution_count": 107,
   "id": "946c7749-8845-47ca-9288-823e1a439862",
   "metadata": {},
   "outputs": [
    {
     "name": "stderr",
     "output_type": "stream",
     "text": [
      "/Library/Frameworks/Python.framework/Versions/3.9/lib/python3.9/site-packages/skopt/optimizer/optimizer.py:449: UserWarning: The objective has been evaluated at this point before.\n",
      "  warnings.warn(\"The objective has been evaluated \"\n",
      "/Library/Frameworks/Python.framework/Versions/3.9/lib/python3.9/site-packages/skopt/optimizer/optimizer.py:449: UserWarning: The objective has been evaluated at this point before.\n",
      "  warnings.warn(\"The objective has been evaluated \"\n",
      "/Library/Frameworks/Python.framework/Versions/3.9/lib/python3.9/site-packages/skopt/optimizer/optimizer.py:449: UserWarning: The objective has been evaluated at this point before.\n",
      "  warnings.warn(\"The objective has been evaluated \"\n",
      "/Library/Frameworks/Python.framework/Versions/3.9/lib/python3.9/site-packages/skopt/optimizer/optimizer.py:449: UserWarning: The objective has been evaluated at this point before.\n",
      "  warnings.warn(\"The objective has been evaluated \"\n",
      "/Library/Frameworks/Python.framework/Versions/3.9/lib/python3.9/site-packages/skopt/optimizer/optimizer.py:449: UserWarning: The objective has been evaluated at this point before.\n",
      "  warnings.warn(\"The objective has been evaluated \"\n",
      "/Library/Frameworks/Python.framework/Versions/3.9/lib/python3.9/site-packages/skopt/optimizer/optimizer.py:449: UserWarning: The objective has been evaluated at this point before.\n",
      "  warnings.warn(\"The objective has been evaluated \"\n",
      "/Library/Frameworks/Python.framework/Versions/3.9/lib/python3.9/site-packages/skopt/optimizer/optimizer.py:449: UserWarning: The objective has been evaluated at this point before.\n",
      "  warnings.warn(\"The objective has been evaluated \"\n",
      "/Library/Frameworks/Python.framework/Versions/3.9/lib/python3.9/site-packages/skopt/optimizer/optimizer.py:449: UserWarning: The objective has been evaluated at this point before.\n",
      "  warnings.warn(\"The objective has been evaluated \"\n",
      "/Library/Frameworks/Python.framework/Versions/3.9/lib/python3.9/site-packages/skopt/optimizer/optimizer.py:449: UserWarning: The objective has been evaluated at this point before.\n",
      "  warnings.warn(\"The objective has been evaluated \"\n",
      "/Library/Frameworks/Python.framework/Versions/3.9/lib/python3.9/site-packages/skopt/optimizer/optimizer.py:449: UserWarning: The objective has been evaluated at this point before.\n",
      "  warnings.warn(\"The objective has been evaluated \"\n",
      "/Library/Frameworks/Python.framework/Versions/3.9/lib/python3.9/site-packages/skopt/optimizer/optimizer.py:449: UserWarning: The objective has been evaluated at this point before.\n",
      "  warnings.warn(\"The objective has been evaluated \"\n",
      "/Library/Frameworks/Python.framework/Versions/3.9/lib/python3.9/site-packages/skopt/optimizer/optimizer.py:449: UserWarning: The objective has been evaluated at this point before.\n",
      "  warnings.warn(\"The objective has been evaluated \"\n",
      "/Library/Frameworks/Python.framework/Versions/3.9/lib/python3.9/site-packages/skopt/optimizer/optimizer.py:449: UserWarning: The objective has been evaluated at this point before.\n",
      "  warnings.warn(\"The objective has been evaluated \"\n",
      "/Library/Frameworks/Python.framework/Versions/3.9/lib/python3.9/site-packages/skopt/optimizer/optimizer.py:449: UserWarning: The objective has been evaluated at this point before.\n",
      "  warnings.warn(\"The objective has been evaluated \"\n",
      "/Library/Frameworks/Python.framework/Versions/3.9/lib/python3.9/site-packages/skopt/optimizer/optimizer.py:449: UserWarning: The objective has been evaluated at this point before.\n",
      "  warnings.warn(\"The objective has been evaluated \"\n",
      "/Library/Frameworks/Python.framework/Versions/3.9/lib/python3.9/site-packages/skopt/optimizer/optimizer.py:449: UserWarning: The objective has been evaluated at this point before.\n",
      "  warnings.warn(\"The objective has been evaluated \"\n"
     ]
    },
    {
     "data": {
      "text/html": [
       "<style>#sk-container-id-2 {color: black;}#sk-container-id-2 pre{padding: 0;}#sk-container-id-2 div.sk-toggleable {background-color: white;}#sk-container-id-2 label.sk-toggleable__label {cursor: pointer;display: block;width: 100%;margin-bottom: 0;padding: 0.3em;box-sizing: border-box;text-align: center;}#sk-container-id-2 label.sk-toggleable__label-arrow:before {content: \"▸\";float: left;margin-right: 0.25em;color: #696969;}#sk-container-id-2 label.sk-toggleable__label-arrow:hover:before {color: black;}#sk-container-id-2 div.sk-estimator:hover label.sk-toggleable__label-arrow:before {color: black;}#sk-container-id-2 div.sk-toggleable__content {max-height: 0;max-width: 0;overflow: hidden;text-align: left;background-color: #f0f8ff;}#sk-container-id-2 div.sk-toggleable__content pre {margin: 0.2em;color: black;border-radius: 0.25em;background-color: #f0f8ff;}#sk-container-id-2 input.sk-toggleable__control:checked~div.sk-toggleable__content {max-height: 200px;max-width: 100%;overflow: auto;}#sk-container-id-2 input.sk-toggleable__control:checked~label.sk-toggleable__label-arrow:before {content: \"▾\";}#sk-container-id-2 div.sk-estimator input.sk-toggleable__control:checked~label.sk-toggleable__label {background-color: #d4ebff;}#sk-container-id-2 div.sk-label input.sk-toggleable__control:checked~label.sk-toggleable__label {background-color: #d4ebff;}#sk-container-id-2 input.sk-hidden--visually {border: 0;clip: rect(1px 1px 1px 1px);clip: rect(1px, 1px, 1px, 1px);height: 1px;margin: -1px;overflow: hidden;padding: 0;position: absolute;width: 1px;}#sk-container-id-2 div.sk-estimator {font-family: monospace;background-color: #f0f8ff;border: 1px dotted black;border-radius: 0.25em;box-sizing: border-box;margin-bottom: 0.5em;}#sk-container-id-2 div.sk-estimator:hover {background-color: #d4ebff;}#sk-container-id-2 div.sk-parallel-item::after {content: \"\";width: 100%;border-bottom: 1px solid gray;flex-grow: 1;}#sk-container-id-2 div.sk-label:hover label.sk-toggleable__label {background-color: #d4ebff;}#sk-container-id-2 div.sk-serial::before {content: \"\";position: absolute;border-left: 1px solid gray;box-sizing: border-box;top: 0;bottom: 0;left: 50%;z-index: 0;}#sk-container-id-2 div.sk-serial {display: flex;flex-direction: column;align-items: center;background-color: white;padding-right: 0.2em;padding-left: 0.2em;position: relative;}#sk-container-id-2 div.sk-item {position: relative;z-index: 1;}#sk-container-id-2 div.sk-parallel {display: flex;align-items: stretch;justify-content: center;background-color: white;position: relative;}#sk-container-id-2 div.sk-item::before, #sk-container-id-2 div.sk-parallel-item::before {content: \"\";position: absolute;border-left: 1px solid gray;box-sizing: border-box;top: 0;bottom: 0;left: 50%;z-index: -1;}#sk-container-id-2 div.sk-parallel-item {display: flex;flex-direction: column;z-index: 1;position: relative;background-color: white;}#sk-container-id-2 div.sk-parallel-item:first-child::after {align-self: flex-end;width: 50%;}#sk-container-id-2 div.sk-parallel-item:last-child::after {align-self: flex-start;width: 50%;}#sk-container-id-2 div.sk-parallel-item:only-child::after {width: 0;}#sk-container-id-2 div.sk-dashed-wrapped {border: 1px dashed gray;margin: 0 0.4em 0.5em 0.4em;box-sizing: border-box;padding-bottom: 0.4em;background-color: white;}#sk-container-id-2 div.sk-label label {font-family: monospace;font-weight: bold;display: inline-block;line-height: 1.2em;}#sk-container-id-2 div.sk-label-container {text-align: center;}#sk-container-id-2 div.sk-container {/* jupyter's `normalize.less` sets `[hidden] { display: none; }` but bootstrap.min.css set `[hidden] { display: none !important; }` so we also need the `!important` here to be able to override the default hidden behavior on the sphinx rendered scikit-learn.org. See: https://github.com/scikit-learn/scikit-learn/issues/21755 */display: inline-block !important;position: relative;}#sk-container-id-2 div.sk-text-repr-fallback {display: none;}</style><div id=\"sk-container-id-2\" class=\"sk-top-container\"><div class=\"sk-text-repr-fallback\"><pre>BayesSearchCV(cv=3, estimator=RandomForestClassifier(), n_iter=32,\n",
       "              search_spaces={&#x27;max_depth&#x27;: (2, 10, 20, None),\n",
       "                             &#x27;n_estimators&#x27;: (5, 50, 100)})</pre><b>In a Jupyter environment, please rerun this cell to show the HTML representation or trust the notebook. <br />On GitHub, the HTML representation is unable to render, please try loading this page with nbviewer.org.</b></div><div class=\"sk-container\" hidden><div class=\"sk-item sk-dashed-wrapped\"><div class=\"sk-label-container\"><div class=\"sk-label sk-toggleable\"><input class=\"sk-toggleable__control sk-hidden--visually\" id=\"sk-estimator-id-4\" type=\"checkbox\" ><label for=\"sk-estimator-id-4\" class=\"sk-toggleable__label sk-toggleable__label-arrow\">BayesSearchCV</label><div class=\"sk-toggleable__content\"><pre>BayesSearchCV(cv=3, estimator=RandomForestClassifier(), n_iter=32,\n",
       "              search_spaces={&#x27;max_depth&#x27;: (2, 10, 20, None),\n",
       "                             &#x27;n_estimators&#x27;: (5, 50, 100)})</pre></div></div></div><div class=\"sk-parallel\"><div class=\"sk-parallel-item\"><div class=\"sk-item\"><div class=\"sk-label-container\"><div class=\"sk-label sk-toggleable\"><input class=\"sk-toggleable__control sk-hidden--visually\" id=\"sk-estimator-id-5\" type=\"checkbox\" ><label for=\"sk-estimator-id-5\" class=\"sk-toggleable__label sk-toggleable__label-arrow\">estimator: RandomForestClassifier</label><div class=\"sk-toggleable__content\"><pre>RandomForestClassifier()</pre></div></div></div><div class=\"sk-serial\"><div class=\"sk-item\"><div class=\"sk-estimator sk-toggleable\"><input class=\"sk-toggleable__control sk-hidden--visually\" id=\"sk-estimator-id-6\" type=\"checkbox\" ><label for=\"sk-estimator-id-6\" class=\"sk-toggleable__label sk-toggleable__label-arrow\">RandomForestClassifier</label><div class=\"sk-toggleable__content\"><pre>RandomForestClassifier()</pre></div></div></div></div></div></div></div></div></div></div>"
      ],
      "text/plain": [
       "BayesSearchCV(cv=3, estimator=RandomForestClassifier(), n_iter=32,\n",
       "              search_spaces={'max_depth': (2, 10, 20, None),\n",
       "                             'n_estimators': (5, 50, 100)})"
      ]
     },
     "execution_count": 107,
     "metadata": {},
     "output_type": "execute_result"
    }
   ],
   "source": [
    "# Check this on the full dataset, without trimming predictors that didn't have\n",
    "# much linear relationship with the outcome, and see if it's any better\n",
    "rf2 = BayesSearchCV(\n",
    "    RandomForestClassifier(),\n",
    "    {\n",
    "        'n_estimators': (5, 50, 100),\n",
    "        'max_depth': (2, 10, 20, None)\n",
    "    },\n",
    "    n_iter=32,\n",
    "    cv=3\n",
    ")\n",
    "\n",
    "# fit the model to the data\n",
    "np.int = int # some error related to skopt using np.int but np.int is deprecated in newer versions of numpy\n",
    "rf2.fit(x_train, y_train_array)"
   ]
  },
  {
   "cell_type": "code",
   "execution_count": 109,
   "id": "b2112a22-8db3-4671-a221-94ac3e3ff9c7",
   "metadata": {},
   "outputs": [
    {
     "name": "stdout",
     "output_type": "stream",
     "text": [
      "OrderedDict([('max_depth', 20), ('n_estimators', 100)])\n"
     ]
    }
   ],
   "source": [
    "# What were the best parameters it found?\n",
    "print(rf2.best_params_)"
   ]
  },
  {
   "cell_type": "code",
   "execution_count": null,
   "id": "9f22651e-cfdf-48c8-b74c-761958f6c508",
   "metadata": {},
   "outputs": [],
   "source": [
    "# using the full set of predictors, the best model had more trees and deeper depths"
   ]
  },
  {
   "cell_type": "code",
   "execution_count": 110,
   "id": "a1a170f7-5eb9-4fed-8987-168a6a6d5dd3",
   "metadata": {},
   "outputs": [
    {
     "name": "stdout",
     "output_type": "stream",
     "text": [
      "0.886 (+/-0.0) for OrderedDict([('max_depth', 10), ('n_estimators', 5)])\n",
      "0.886 (+/-0.0) for OrderedDict([('max_depth', 20), ('n_estimators', 50)])\n",
      "0.886 (+/-0.0) for OrderedDict([('max_depth', 10), ('n_estimators', 100)])\n",
      "0.886 (+/-0.0) for OrderedDict([('max_depth', None), ('n_estimators', 100)])\n",
      "0.886 (+/-0.0) for OrderedDict([('max_depth', None), ('n_estimators', 50)])\n",
      "0.886 (+/-0.0) for OrderedDict([('max_depth', 10), ('n_estimators', 50)])\n",
      "0.886 (+/-0.0) for OrderedDict([('max_depth', 10), ('n_estimators', 50)])\n",
      "0.886 (+/-0.0) for OrderedDict([('max_depth', 10), ('n_estimators', 5)])\n",
      "0.886 (+/-0.0) for OrderedDict([('max_depth', None), ('n_estimators', 100)])\n",
      "0.886 (+/-0.0) for OrderedDict([('max_depth', 10), ('n_estimators', 100)])\n",
      "0.886 (+/-0.0) for OrderedDict([('max_depth', 20), ('n_estimators', 100)])\n",
      "0.886 (+/-0.0) for OrderedDict([('max_depth', 10), ('n_estimators', 50)])\n",
      "0.886 (+/-0.0) for OrderedDict([('max_depth', 2), ('n_estimators', 50)])\n",
      "0.886 (+/-0.0) for OrderedDict([('max_depth', 10), ('n_estimators', 50)])\n",
      "0.868 (+/-0.003) for OrderedDict([('max_depth', None), ('n_estimators', 5)])\n",
      "0.886 (+/-0.0) for OrderedDict([('max_depth', 2), ('n_estimators', 5)])\n",
      "0.879 (+/-0.003) for OrderedDict([('max_depth', 20), ('n_estimators', 5)])\n",
      "0.886 (+/-0.0) for OrderedDict([('max_depth', 2), ('n_estimators', 100)])\n",
      "0.878 (+/-0.003) for OrderedDict([('max_depth', 20), ('n_estimators', 5)])\n",
      "0.886 (+/-0.0) for OrderedDict([('max_depth', 20), ('n_estimators', 100)])\n",
      "0.886 (+/-0.0) for OrderedDict([('max_depth', 10), ('n_estimators', 100)])\n",
      "0.886 (+/-0.0) for OrderedDict([('max_depth', 20), ('n_estimators', 100)])\n",
      "0.886 (+/-0.0) for OrderedDict([('max_depth', 20), ('n_estimators', 50)])\n",
      "0.886 (+/-0.0) for OrderedDict([('max_depth', 10), ('n_estimators', 50)])\n",
      "0.868 (+/-0.003) for OrderedDict([('max_depth', None), ('n_estimators', 5)])\n",
      "0.886 (+/-0.001) for OrderedDict([('max_depth', 10), ('n_estimators', 5)])\n",
      "0.886 (+/-0.0) for OrderedDict([('max_depth', None), ('n_estimators', 50)])\n",
      "0.886 (+/-0.0) for OrderedDict([('max_depth', 2), ('n_estimators', 100)])\n",
      "0.879 (+/-0.001) for OrderedDict([('max_depth', 20), ('n_estimators', 5)])\n",
      "0.886 (+/-0.0) for OrderedDict([('max_depth', 10), ('n_estimators', 100)])\n",
      "0.886 (+/-0.0) for OrderedDict([('max_depth', None), ('n_estimators', 50)])\n",
      "0.886 (+/-0.0) for OrderedDict([('max_depth', 2), ('n_estimators', 50)])\n"
     ]
    }
   ],
   "source": [
    "# Check results of all hyperparameter combos that BayesSearchCV checked\n",
    "means = rf2.cv_results_['mean_test_score']\n",
    "stds = rf2.cv_results_['std_test_score']\n",
    "for mean, std, params in zip(means, stds, rf2.cv_results_['params']):\n",
    "\tprint('{} (+/-{}) for {}'.format(round(mean, 3), round(std * 2, 3), params))"
   ]
  },
  {
   "cell_type": "code",
   "execution_count": null,
   "id": "7a326b94-9750-4d49-a17e-09a57224628f",
   "metadata": {},
   "outputs": [],
   "source": [
    "# above, this accuracy of 0.886 doesn't look different from using the reduced \n",
    "# predictors dataset.  So lets stick with reduced predictors which was just as \n",
    "# successful with a slightly less complex model. "
   ]
  },
  {
   "cell_type": "code",
   "execution_count": 113,
   "id": "8d6fd61c-3dcb-47bd-b4c5-abf330cd067f",
   "metadata": {},
   "outputs": [
    {
     "name": "stdout",
     "output_type": "stream",
     "text": [
      "In the true data, 2812 were readmitted, while 22177 were not\n",
      "The model predicted that, 27 were readmitted, while 24962 were not\n"
     ]
    }
   ],
   "source": [
    "# Train a model using best hyperparameters and dataset shown above.\n",
    "# check it against test data\n",
    "rf3 = RandomForestClassifier(max_depth=10, n_estimators=50)\n",
    "rf3.fit(x_train_reduced, y_train_array)\n",
    "\n",
    "y_pred_rf = rf3.predict(x_test_reduced) # get the predicted y-values\n",
    "print('In the true data, ' + str(y_test_array.count(1)) + ' were readmitted, while ' + str(y_test_array.count(0)) + ' were not')\n",
    "\n",
    "print('The model predicted that, ' + str(y_pred_rf.tolist().count(1)) + ' were readmitted, while ' + str(y_pred_rf.tolist().count(0)) + ' were not')"
   ]
  },
  {
   "cell_type": "code",
   "execution_count": 114,
   "id": "501cdb4a-702e-4377-ad1a-c333b67db22f",
   "metadata": {},
   "outputs": [
    {
     "data": {
      "image/png": "[encoded data removed]",
      "text/plain": [
       "<Figure size 640x480 with 2 Axes>"
      ]
     },
     "metadata": {},
     "output_type": "display_data"
    },
    {
     "name": "stdout",
     "output_type": "stream",
     "text": [
      "RandomForestClassifier found accuracy: 88.783%, precision: 66.667%, recall: 0.64%\n"
     ]
    }
   ],
   "source": [
    "# This isn't looking too good, model predicts that almost no one is readmitted, so \n",
    "# that's not going to help identify people at risk for readmission.  Lets make a confusion\n",
    "# matrix to see the misclassifications\n",
    "\n",
    "confusionMatrix(y_pred_rf)\n",
    "describeModelResults('RandomForestClassifier', y_pred_rf)"
   ]
  },
  {
   "cell_type": "code",
   "execution_count": null,
   "id": "eb5a3a63-f8f5-4934-b46b-b9825d807dcc",
   "metadata": {},
   "outputs": [],
   "source": [
    "# Overall, this model performed similar to logistical regression"
   ]
  },
  {
   "cell_type": "code",
   "execution_count": 128,
   "id": "96be6db8-a9a6-42e8-9ea2-cf4b94598736",
   "metadata": {},
   "outputs": [
    {
     "name": "stdout",
     "output_type": "stream",
     "text": [
      "In the true data, 2812 were readmitted, while 22177 were not\n",
      "threshold: 0.01, predicted readmitted: 24989, predicted not readmitted: 19558, accuracy: 11.253%, precision: 11.253%, recall: 100.0%\n",
      "threshold: 0.05, predicted readmitted: 24129, predicted not readmitted: 19558, accuracy: 14.414%, precision: 11.509%, recall: 98.755%\n",
      "threshold: 0.07, predicted readmitted: 19882, predicted not readmitted: 19558, accuracy: 29.737%, precision: 12.916%, recall: 91.323%\n",
      "threshold: 0.1, predicted readmitted: 11703, predicted not readmitted: 19558, accuracy: 56.945%, precision: 16.047%, recall: 66.785%\n",
      "threshold: 0.15, predicted readmitted: 5431, predicted not readmitted: 19558, accuracy: 75.865%, precision: 20.365%, recall: 39.331%\n",
      "threshold: 0.2, predicted readmitted: 1641, predicted not readmitted: 19558, accuracy: 85.726%, precision: 26.996%, recall: 15.754%\n"
     ]
    }
   ],
   "source": [
    "# Lets assume someone with more medical experience than me says they want to see 90% of the\n",
    "# people who will be readmitted correctly identified by the model as \"at risk\"\n",
    "# I'll update the threshold and try the predictions again\n",
    "\n",
    "thresholds = [0.01, 0.05, 0.07, 0.1, 0.15, 0.2]\n",
    "\n",
    "print('In the true data, ' + str(y_test_array.count(1)) + ' were readmitted, while ' + str(y_test_array.count(0)) + ' were not')\n",
    "for value in thresholds:\n",
    "    threshold = value\n",
    "    y_pred_proba = rf3.predict_proba(x_test_reduced)[:, 1]\n",
    "    y_pred = (y_pred_proba > threshold).astype(int)\n",
    "    accuracy = round(accuracy_score(y_test_array, y_pred)*100, 3)\n",
    "    precision = round(precision_score(y_test_array, y_pred)*100, 3)\n",
    "    recall = round(recall_score(y_test_array, y_pred)*100, 3)\n",
    "    # print('predicted readmitted: ' + str(y_pred.tolist().count(1)) + ', predicted not readmitted: ' + print(str(y_pred_rf_2.tolist().count(0))\n",
    "    print('threshold: {}, predicted readmitted: {}, predicted not readmitted: {}, accuracy: {}%, precision: {}%, recall: {}%'.format(threshold, y_pred.tolist().count(1), y_pred_rf_2.tolist().count(0), accuracy, precision, recall));\n"
   ]
  },
  {
   "cell_type": "code",
   "execution_count": null,
   "id": "e4ad886c-4658-48e0-a4ca-c062bed0a15c",
   "metadata": {},
   "outputs": [],
   "source": [
    "# This shows that you can tune the model to increase recall, but at a huge loss of precision\n",
    "# Let's say 99% of pts who will be re-hosp are correctly identified by the model as \"at risk\".\n",
    "# That sounds impressive, but that model is now predicting that over half of all patients are \"at risk\", \n",
    "# when in reality, only a small portion of them actually going to be re-hosp"
   ]
  },
  {
   "cell_type": "code",
   "execution_count": null,
   "id": "dcb8954f-c18e-494f-9b60-c54dad8557e1",
   "metadata": {},
   "outputs": [],
   "source": [
    "# Model #3: Gradient Boosting Classifier - Megatree\n",
    "# print some info about the model\n",
    "# print(help(GradientBoostingClassifier))"
   ]
  },
  {
   "cell_type": "code",
   "execution_count": 116,
   "id": "eb8bcca5-f0b0-47f4-8397-4d1035514625",
   "metadata": {},
   "outputs": [
    {
     "name": "stderr",
     "output_type": "stream",
     "text": [
      "/Library/Frameworks/Python.framework/Versions/3.9/lib/python3.9/site-packages/skopt/optimizer/optimizer.py:449: UserWarning: The objective has been evaluated at this point before.\n",
      "  warnings.warn(\"The objective has been evaluated \"\n"
     ]
    },
    {
     "name": "stdout",
     "output_type": "stream",
     "text": [
      "This model took about  21.59 minutes to run\n"
     ]
    }
   ],
   "source": [
    "# Since this one will likely take a lot longer to train because the trees have to be built\n",
    "# sequentially, and other models have not been helped by the predictors that don't show any\n",
    "# significant linear relationship with the outcome lets keep it simple and use reduced training \n",
    "# only\n",
    "#\n",
    "# use BayesSearchCV to wrap the model, giving it different hyperparameters to try out\n",
    "# in gradient boosting, will try different number of estimators (number of trees) and different\n",
    "# max depths of those trees and a learning rate\n",
    "#\n",
    "# Also setting cv to 3, which means in cross fold validation, the data will be divided into 3 parts, 2 parts \n",
    "# to be used as train data, and 1 part for test, then it will rotate to use the other 2 parts as train and the third\n",
    "# as test. Helps reduce over fitting. \n",
    "gb = BayesSearchCV(\n",
    "    GradientBoostingClassifier(),\n",
    "    {\n",
    "        'n_estimators': (5, 50, 250, 500),\n",
    "        'max_depth': (3, 7, 9),\n",
    "        'learning_rate': (0.01, 0.1, 1, 10, 100)\n",
    "    },\n",
    "    n_iter=32,\n",
    "    cv=3\n",
    ")\n",
    "\n",
    "# fit the model to the data\n",
    "np.int = int # some error related to skopt using np.int but np.int is deprecated in newer versions of numpy\n",
    "start = time.time()\n",
    "gb.fit(x_train_reduced, y_train_array)\n",
    "end = time.time()\n",
    "print('These models took about ', round((end - start) / 60, 2), 'minutes to run')"
   ]
  },
  {
   "cell_type": "code",
   "execution_count": 117,
   "id": "7be488e0-cb06-4c53-8822-5471f2d4ef49",
   "metadata": {},
   "outputs": [
    {
     "name": "stdout",
     "output_type": "stream",
     "text": [
      "OrderedDict([('learning_rate', 0.1), ('max_depth', 3), ('n_estimators', 50)])\n"
     ]
    }
   ],
   "source": [
    "# What were the best parameters it found?\n",
    "print(gb.best_params_)"
   ]
  },
  {
   "cell_type": "code",
   "execution_count": 118,
   "id": "a12fb2e2-4701-4168-ad6a-d45fc2a7b4dc",
   "metadata": {},
   "outputs": [
    {
     "name": "stdout",
     "output_type": "stream",
     "text": [
      "0.348 (+/-0.073) for OrderedDict([('learning_rate', 100.0), ('max_depth', 7), ('n_estimators', 500)])\n",
      "0.274 (+/-0.136) for OrderedDict([('learning_rate', 100.0), ('max_depth', 3), ('n_estimators', 250)])\n",
      "0.884 (+/-0.001) for OrderedDict([('learning_rate', 1.0), ('max_depth', 3), ('n_estimators', 50)])\n",
      "0.362 (+/-0.046) for OrderedDict([('learning_rate', 10.0), ('max_depth', 9), ('n_estimators', 50)])\n",
      "0.195 (+/-0.159) for OrderedDict([('learning_rate', 10.0), ('max_depth', 3), ('n_estimators', 5)])\n",
      "0.844 (+/-0.006) for OrderedDict([('learning_rate', 1.0), ('max_depth', 9), ('n_estimators', 250)])\n",
      "0.88 (+/-0.001) for OrderedDict([('learning_rate', 1.0), ('max_depth', 7), ('n_estimators', 5)])\n",
      "0.878 (+/-0.0) for OrderedDict([('learning_rate', 0.1), ('max_depth', 9), ('n_estimators', 500)])\n",
      "0.84 (+/-0.002) for OrderedDict([('learning_rate', 1.0), ('max_depth', 7), ('n_estimators', 250)])\n",
      "0.331 (+/-0.049) for OrderedDict([('learning_rate', 100.0), ('max_depth', 9), ('n_estimators', 500)])\n",
      "0.886 (+/-0.0) for OrderedDict([('learning_rate', 0.1), ('max_depth', 3), ('n_estimators', 50)])\n",
      "0.886 (+/-0.0) for OrderedDict([('learning_rate', 0.01), ('max_depth', 3), ('n_estimators', 500)])\n",
      "0.885 (+/-0.0) for OrderedDict([('learning_rate', 0.01), ('max_depth', 9), ('n_estimators', 250)])\n",
      "0.886 (+/-0.0) for OrderedDict([('learning_rate', 0.01), ('max_depth', 7), ('n_estimators', 50)])\n",
      "0.883 (+/-0.001) for OrderedDict([('learning_rate', 0.1), ('max_depth', 7), ('n_estimators', 250)])\n",
      "0.886 (+/-0.0) for OrderedDict([('learning_rate', 0.01), ('max_depth', 3), ('n_estimators', 5)])\n",
      "0.886 (+/-0.0) for OrderedDict([('learning_rate', 0.1), ('max_depth', 3), ('n_estimators', 5)])\n",
      "0.85 (+/-0.013) for OrderedDict([('learning_rate', 1.0), ('max_depth', 9), ('n_estimators', 500)])\n",
      "0.886 (+/-0.001) for OrderedDict([('learning_rate', 1.0), ('max_depth', 3), ('n_estimators', 5)])\n",
      "0.886 (+/-0.0) for OrderedDict([('learning_rate', 0.01), ('max_depth', 7), ('n_estimators', 250)])\n",
      "0.885 (+/-0.001) for OrderedDict([('learning_rate', 0.01), ('max_depth', 9), ('n_estimators', 500)])\n",
      "0.885 (+/-0.0) for OrderedDict([('learning_rate', 0.1), ('max_depth', 7), ('n_estimators', 50)])\n",
      "0.884 (+/-0.001) for OrderedDict([('learning_rate', 0.1), ('max_depth', 9), ('n_estimators', 50)])\n",
      "0.886 (+/-0.0) for OrderedDict([('learning_rate', 0.01), ('max_depth', 3), ('n_estimators', 50)])\n",
      "0.886 (+/-0.0) for OrderedDict([('learning_rate', 0.1), ('max_depth', 7), ('n_estimators', 5)])\n",
      "0.886 (+/-0.0) for OrderedDict([('learning_rate', 0.01), ('max_depth', 7), ('n_estimators', 5)])\n",
      "0.835 (+/-0.004) for OrderedDict([('learning_rate', 1.0), ('max_depth', 9), ('n_estimators', 50)])\n",
      "0.886 (+/-0.001) for OrderedDict([('learning_rate', 0.1), ('max_depth', 3), ('n_estimators', 250)])\n",
      "0.886 (+/-0.0) for OrderedDict([('learning_rate', 0.01), ('max_depth', 9), ('n_estimators', 5)])\n",
      "0.886 (+/-0.001) for OrderedDict([('learning_rate', 1.0), ('max_depth', 3), ('n_estimators', 5)])\n",
      "0.886 (+/-0.0) for OrderedDict([('learning_rate', 0.01), ('max_depth', 3), ('n_estimators', 250)])\n",
      "0.886 (+/-0.0) for OrderedDict([('learning_rate', 0.01), ('max_depth', 7), ('n_estimators', 500)])\n"
     ]
    }
   ],
   "source": [
    "# Check results of all hyperparameter combos that BayesSearchCV checked\n",
    "means = gb.cv_results_['mean_test_score']\n",
    "stds = gb.cv_results_['std_test_score']\n",
    "for mean, std, params in zip(means, stds, gb.cv_results_['params']):\n",
    "\tprint('{} (+/-{}) for {}'.format(round(mean, 3), round(std * 2, 3), params))"
   ]
  },
  {
   "cell_type": "code",
   "execution_count": 129,
   "id": "f27476bb-bc4d-4bd1-8dc6-f90dabaf11ff",
   "metadata": {},
   "outputs": [
    {
     "name": "stdout",
     "output_type": "stream",
     "text": [
      "In the true data, 2812 were readmitted, while 22177 were not\n",
      "The model predicted that, 34 were readmitted, while 24955 were not\n"
     ]
    },
    {
     "data": {
      "image/png": "[encoded data removed]",
      "text/plain": [
       "<Figure size 640x480 with 2 Axes>"
      ]
     },
     "metadata": {},
     "output_type": "display_data"
    },
    {
     "name": "stdout",
     "output_type": "stream",
     "text": [
      "Gradient Boosting Classifier found accuracy: 88.747%, precision: 50.0%, recall: 0.605%\n"
     ]
    }
   ],
   "source": [
    "# Best models here are only .886, similar to random forest or logistical regression.  Lets check it on the test data\n",
    "\n",
    "gb2 = GradientBoostingClassifier(learning_rate=0.1, max_depth=3, n_estimators=50)\n",
    "gb2.fit(x_train_reduced, y_train_array)\n",
    "\n",
    "y_pred_gb = gb2.predict(x_test_reduced) # get the predicted y-values\n",
    "print('In the true data, ' + str(y_test_array.count(1)) + ' were readmitted, while ' + str(y_test_array.count(0)) + ' were not')\n",
    "print('The model predicted that, ' + str(y_pred_gb.tolist().count(1)) + ' were readmitted, while ' + str(y_pred_gb.tolist().count(0)) + ' were not')\n",
    "\n",
    "confusionMatrix(y_pred_gb)\n",
    "describeModelResults('Gradient Boosting Classifier', y_pred_gb)"
   ]
  },
  {
   "cell_type": "code",
   "execution_count": null,
   "id": "6f60f647-1d96-4769-9fd5-410f26eabbda",
   "metadata": {},
   "outputs": [],
   "source": [
    "# Like the  models before, this is very poor, predicts almost everyone wasn't readmitted within 30 days with very poor recall\n",
    "# I could tune the threshold, but since this is performing a bit worse than random forest, lets leave it here."
   ]
  },
  {
   "cell_type": "code",
   "execution_count": null,
   "id": "52ba11c2-ad77-49d7-bdb7-8fae1e810d37",
   "metadata": {},
   "outputs": [],
   "source": [
    "# Model #4: Multilayer Perceptron Classifier\n",
    "# print some info about the model\n",
    "# print(help(MLPClassifier))"
   ]
  },
  {
   "cell_type": "code",
   "execution_count": 137,
   "id": "1af86ba4-70c2-4828-998f-5605a73b0a2b",
   "metadata": {},
   "outputs": [
    {
     "name": "stderr",
     "output_type": "stream",
     "text": [
      "/Library/Frameworks/Python.framework/Versions/3.9/lib/python3.9/site-packages/sklearn/neural_network/_multilayer_perceptron.py:691: ConvergenceWarning: Stochastic Optimizer: Maximum iterations (200) reached and the optimization hasn't converged yet.\n",
      "  warnings.warn(\n",
      "/Library/Frameworks/Python.framework/Versions/3.9/lib/python3.9/site-packages/sklearn/neural_network/_multilayer_perceptron.py:691: ConvergenceWarning: Stochastic Optimizer: Maximum iterations (200) reached and the optimization hasn't converged yet.\n",
      "  warnings.warn(\n",
      "/Library/Frameworks/Python.framework/Versions/3.9/lib/python3.9/site-packages/sklearn/neural_network/_multilayer_perceptron.py:691: ConvergenceWarning: Stochastic Optimizer: Maximum iterations (200) reached and the optimization hasn't converged yet.\n",
      "  warnings.warn(\n",
      "/Library/Frameworks/Python.framework/Versions/3.9/lib/python3.9/site-packages/sklearn/neural_network/_multilayer_perceptron.py:691: ConvergenceWarning: Stochastic Optimizer: Maximum iterations (200) reached and the optimization hasn't converged yet.\n",
      "  warnings.warn(\n",
      "/Library/Frameworks/Python.framework/Versions/3.9/lib/python3.9/site-packages/sklearn/neural_network/_multilayer_perceptron.py:691: ConvergenceWarning: Stochastic Optimizer: Maximum iterations (200) reached and the optimization hasn't converged yet.\n",
      "  warnings.warn(\n",
      "/Library/Frameworks/Python.framework/Versions/3.9/lib/python3.9/site-packages/sklearn/neural_network/_multilayer_perceptron.py:691: ConvergenceWarning: Stochastic Optimizer: Maximum iterations (200) reached and the optimization hasn't converged yet.\n",
      "  warnings.warn(\n",
      "/Library/Frameworks/Python.framework/Versions/3.9/lib/python3.9/site-packages/sklearn/neural_network/_multilayer_perceptron.py:691: ConvergenceWarning: Stochastic Optimizer: Maximum iterations (200) reached and the optimization hasn't converged yet.\n",
      "  warnings.warn(\n",
      "/Library/Frameworks/Python.framework/Versions/3.9/lib/python3.9/site-packages/sklearn/neural_network/_multilayer_perceptron.py:691: ConvergenceWarning: Stochastic Optimizer: Maximum iterations (200) reached and the optimization hasn't converged yet.\n",
      "  warnings.warn(\n",
      "/Library/Frameworks/Python.framework/Versions/3.9/lib/python3.9/site-packages/sklearn/neural_network/_multilayer_perceptron.py:691: ConvergenceWarning: Stochastic Optimizer: Maximum iterations (200) reached and the optimization hasn't converged yet.\n",
      "  warnings.warn(\n",
      "/Library/Frameworks/Python.framework/Versions/3.9/lib/python3.9/site-packages/sklearn/neural_network/_multilayer_perceptron.py:691: ConvergenceWarning: Stochastic Optimizer: Maximum iterations (200) reached and the optimization hasn't converged yet.\n",
      "  warnings.warn(\n",
      "/Library/Frameworks/Python.framework/Versions/3.9/lib/python3.9/site-packages/sklearn/neural_network/_multilayer_perceptron.py:691: ConvergenceWarning: Stochastic Optimizer: Maximum iterations (200) reached and the optimization hasn't converged yet.\n",
      "  warnings.warn(\n",
      "/Library/Frameworks/Python.framework/Versions/3.9/lib/python3.9/site-packages/sklearn/neural_network/_multilayer_perceptron.py:691: ConvergenceWarning: Stochastic Optimizer: Maximum iterations (200) reached and the optimization hasn't converged yet.\n",
      "  warnings.warn(\n",
      "/Library/Frameworks/Python.framework/Versions/3.9/lib/python3.9/site-packages/sklearn/neural_network/_multilayer_perceptron.py:691: ConvergenceWarning: Stochastic Optimizer: Maximum iterations (200) reached and the optimization hasn't converged yet.\n",
      "  warnings.warn(\n",
      "/Library/Frameworks/Python.framework/Versions/3.9/lib/python3.9/site-packages/sklearn/neural_network/_multilayer_perceptron.py:691: ConvergenceWarning: Stochastic Optimizer: Maximum iterations (200) reached and the optimization hasn't converged yet.\n",
      "  warnings.warn(\n",
      "/Library/Frameworks/Python.framework/Versions/3.9/lib/python3.9/site-packages/sklearn/neural_network/_multilayer_perceptron.py:691: ConvergenceWarning: Stochastic Optimizer: Maximum iterations (200) reached and the optimization hasn't converged yet.\n",
      "  warnings.warn(\n",
      "/Library/Frameworks/Python.framework/Versions/3.9/lib/python3.9/site-packages/sklearn/neural_network/_multilayer_perceptron.py:691: ConvergenceWarning: Stochastic Optimizer: Maximum iterations (200) reached and the optimization hasn't converged yet.\n",
      "  warnings.warn(\n",
      "/Library/Frameworks/Python.framework/Versions/3.9/lib/python3.9/site-packages/sklearn/neural_network/_multilayer_perceptron.py:691: ConvergenceWarning: Stochastic Optimizer: Maximum iterations (200) reached and the optimization hasn't converged yet.\n",
      "  warnings.warn(\n",
      "/Library/Frameworks/Python.framework/Versions/3.9/lib/python3.9/site-packages/sklearn/neural_network/_multilayer_perceptron.py:691: ConvergenceWarning: Stochastic Optimizer: Maximum iterations (200) reached and the optimization hasn't converged yet.\n",
      "  warnings.warn(\n",
      "/Library/Frameworks/Python.framework/Versions/3.9/lib/python3.9/site-packages/sklearn/neural_network/_multilayer_perceptron.py:691: ConvergenceWarning: Stochastic Optimizer: Maximum iterations (200) reached and the optimization hasn't converged yet.\n",
      "  warnings.warn(\n",
      "/Library/Frameworks/Python.framework/Versions/3.9/lib/python3.9/site-packages/skopt/optimizer/optimizer.py:449: UserWarning: The objective has been evaluated at this point before.\n",
      "  warnings.warn(\"The objective has been evaluated \"\n",
      "/Library/Frameworks/Python.framework/Versions/3.9/lib/python3.9/site-packages/sklearn/neural_network/_multilayer_perceptron.py:691: ConvergenceWarning: Stochastic Optimizer: Maximum iterations (200) reached and the optimization hasn't converged yet.\n",
      "  warnings.warn(\n",
      "/Library/Frameworks/Python.framework/Versions/3.9/lib/python3.9/site-packages/skopt/optimizer/optimizer.py:449: UserWarning: The objective has been evaluated at this point before.\n",
      "  warnings.warn(\"The objective has been evaluated \"\n",
      "/Library/Frameworks/Python.framework/Versions/3.9/lib/python3.9/site-packages/sklearn/neural_network/_multilayer_perceptron.py:691: ConvergenceWarning: Stochastic Optimizer: Maximum iterations (200) reached and the optimization hasn't converged yet.\n",
      "  warnings.warn(\n",
      "/Library/Frameworks/Python.framework/Versions/3.9/lib/python3.9/site-packages/skopt/optimizer/optimizer.py:449: UserWarning: The objective has been evaluated at this point before.\n",
      "  warnings.warn(\"The objective has been evaluated \"\n",
      "/Library/Frameworks/Python.framework/Versions/3.9/lib/python3.9/site-packages/sklearn/neural_network/_multilayer_perceptron.py:691: ConvergenceWarning: Stochastic Optimizer: Maximum iterations (200) reached and the optimization hasn't converged yet.\n",
      "  warnings.warn(\n",
      "/Library/Frameworks/Python.framework/Versions/3.9/lib/python3.9/site-packages/sklearn/neural_network/_multilayer_perceptron.py:691: ConvergenceWarning: Stochastic Optimizer: Maximum iterations (200) reached and the optimization hasn't converged yet.\n",
      "  warnings.warn(\n",
      "/Library/Frameworks/Python.framework/Versions/3.9/lib/python3.9/site-packages/sklearn/neural_network/_multilayer_perceptron.py:691: ConvergenceWarning: Stochastic Optimizer: Maximum iterations (200) reached and the optimization hasn't converged yet.\n",
      "  warnings.warn(\n",
      "/Library/Frameworks/Python.framework/Versions/3.9/lib/python3.9/site-packages/skopt/optimizer/optimizer.py:449: UserWarning: The objective has been evaluated at this point before.\n",
      "  warnings.warn(\"The objective has been evaluated \"\n",
      "/Library/Frameworks/Python.framework/Versions/3.9/lib/python3.9/site-packages/sklearn/neural_network/_multilayer_perceptron.py:691: ConvergenceWarning: Stochastic Optimizer: Maximum iterations (200) reached and the optimization hasn't converged yet.\n",
      "  warnings.warn(\n",
      "/Library/Frameworks/Python.framework/Versions/3.9/lib/python3.9/site-packages/skopt/optimizer/optimizer.py:449: UserWarning: The objective has been evaluated at this point before.\n",
      "  warnings.warn(\"The objective has been evaluated \"\n",
      "/Library/Frameworks/Python.framework/Versions/3.9/lib/python3.9/site-packages/sklearn/neural_network/_multilayer_perceptron.py:691: ConvergenceWarning: Stochastic Optimizer: Maximum iterations (200) reached and the optimization hasn't converged yet.\n",
      "  warnings.warn(\n",
      "/Library/Frameworks/Python.framework/Versions/3.9/lib/python3.9/site-packages/sklearn/neural_network/_multilayer_perceptron.py:691: ConvergenceWarning: Stochastic Optimizer: Maximum iterations (200) reached and the optimization hasn't converged yet.\n",
      "  warnings.warn(\n",
      "/Library/Frameworks/Python.framework/Versions/3.9/lib/python3.9/site-packages/skopt/optimizer/optimizer.py:449: UserWarning: The objective has been evaluated at this point before.\n",
      "  warnings.warn(\"The objective has been evaluated \"\n",
      "/Library/Frameworks/Python.framework/Versions/3.9/lib/python3.9/site-packages/skopt/optimizer/optimizer.py:449: UserWarning: The objective has been evaluated at this point before.\n",
      "  warnings.warn(\"The objective has been evaluated \"\n",
      "/Library/Frameworks/Python.framework/Versions/3.9/lib/python3.9/site-packages/sklearn/neural_network/_multilayer_perceptron.py:691: ConvergenceWarning: Stochastic Optimizer: Maximum iterations (200) reached and the optimization hasn't converged yet.\n",
      "  warnings.warn(\n",
      "/Library/Frameworks/Python.framework/Versions/3.9/lib/python3.9/site-packages/sklearn/neural_network/_multilayer_perceptron.py:691: ConvergenceWarning: Stochastic Optimizer: Maximum iterations (200) reached and the optimization hasn't converged yet.\n",
      "  warnings.warn(\n",
      "/Library/Frameworks/Python.framework/Versions/3.9/lib/python3.9/site-packages/sklearn/neural_network/_multilayer_perceptron.py:691: ConvergenceWarning: Stochastic Optimizer: Maximum iterations (200) reached and the optimization hasn't converged yet.\n",
      "  warnings.warn(\n",
      "/Library/Frameworks/Python.framework/Versions/3.9/lib/python3.9/site-packages/skopt/optimizer/optimizer.py:449: UserWarning: The objective has been evaluated at this point before.\n",
      "  warnings.warn(\"The objective has been evaluated \"\n",
      "/Library/Frameworks/Python.framework/Versions/3.9/lib/python3.9/site-packages/sklearn/neural_network/_multilayer_perceptron.py:691: ConvergenceWarning: Stochastic Optimizer: Maximum iterations (200) reached and the optimization hasn't converged yet.\n",
      "  warnings.warn(\n",
      "/Library/Frameworks/Python.framework/Versions/3.9/lib/python3.9/site-packages/sklearn/neural_network/_multilayer_perceptron.py:691: ConvergenceWarning: Stochastic Optimizer: Maximum iterations (200) reached and the optimization hasn't converged yet.\n",
      "  warnings.warn(\n",
      "/Library/Frameworks/Python.framework/Versions/3.9/lib/python3.9/site-packages/skopt/optimizer/optimizer.py:449: UserWarning: The objective has been evaluated at this point before.\n",
      "  warnings.warn(\"The objective has been evaluated \"\n",
      "/Library/Frameworks/Python.framework/Versions/3.9/lib/python3.9/site-packages/skopt/optimizer/optimizer.py:449: UserWarning: The objective has been evaluated at this point before.\n",
      "  warnings.warn(\"The objective has been evaluated \"\n",
      "/Library/Frameworks/Python.framework/Versions/3.9/lib/python3.9/site-packages/sklearn/neural_network/_multilayer_perceptron.py:691: ConvergenceWarning: Stochastic Optimizer: Maximum iterations (200) reached and the optimization hasn't converged yet.\n",
      "  warnings.warn(\n",
      "/Library/Frameworks/Python.framework/Versions/3.9/lib/python3.9/site-packages/sklearn/neural_network/_multilayer_perceptron.py:691: ConvergenceWarning: Stochastic Optimizer: Maximum iterations (200) reached and the optimization hasn't converged yet.\n",
      "  warnings.warn(\n",
      "/Library/Frameworks/Python.framework/Versions/3.9/lib/python3.9/site-packages/sklearn/neural_network/_multilayer_perceptron.py:691: ConvergenceWarning: Stochastic Optimizer: Maximum iterations (200) reached and the optimization hasn't converged yet.\n",
      "  warnings.warn(\n",
      "/Library/Frameworks/Python.framework/Versions/3.9/lib/python3.9/site-packages/skopt/optimizer/optimizer.py:449: UserWarning: The objective has been evaluated at this point before.\n",
      "  warnings.warn(\"The objective has been evaluated \"\n",
      "/Library/Frameworks/Python.framework/Versions/3.9/lib/python3.9/site-packages/skopt/optimizer/optimizer.py:449: UserWarning: The objective has been evaluated at this point before.\n",
      "  warnings.warn(\"The objective has been evaluated \"\n",
      "/Library/Frameworks/Python.framework/Versions/3.9/lib/python3.9/site-packages/sklearn/neural_network/_multilayer_perceptron.py:691: ConvergenceWarning: Stochastic Optimizer: Maximum iterations (200) reached and the optimization hasn't converged yet.\n",
      "  warnings.warn(\n",
      "/Library/Frameworks/Python.framework/Versions/3.9/lib/python3.9/site-packages/sklearn/neural_network/_multilayer_perceptron.py:691: ConvergenceWarning: Stochastic Optimizer: Maximum iterations (200) reached and the optimization hasn't converged yet.\n",
      "  warnings.warn(\n",
      "/Library/Frameworks/Python.framework/Versions/3.9/lib/python3.9/site-packages/sklearn/neural_network/_multilayer_perceptron.py:691: ConvergenceWarning: Stochastic Optimizer: Maximum iterations (200) reached and the optimization hasn't converged yet.\n",
      "  warnings.warn(\n",
      "/Library/Frameworks/Python.framework/Versions/3.9/lib/python3.9/site-packages/skopt/optimizer/optimizer.py:449: UserWarning: The objective has been evaluated at this point before.\n",
      "  warnings.warn(\"The objective has been evaluated \"\n",
      "/Library/Frameworks/Python.framework/Versions/3.9/lib/python3.9/site-packages/sklearn/neural_network/_multilayer_perceptron.py:691: ConvergenceWarning: Stochastic Optimizer: Maximum iterations (200) reached and the optimization hasn't converged yet.\n",
      "  warnings.warn(\n",
      "/Library/Frameworks/Python.framework/Versions/3.9/lib/python3.9/site-packages/sklearn/neural_network/_multilayer_perceptron.py:691: ConvergenceWarning: Stochastic Optimizer: Maximum iterations (200) reached and the optimization hasn't converged yet.\n",
      "  warnings.warn(\n",
      "/Library/Frameworks/Python.framework/Versions/3.9/lib/python3.9/site-packages/sklearn/neural_network/_multilayer_perceptron.py:691: ConvergenceWarning: Stochastic Optimizer: Maximum iterations (200) reached and the optimization hasn't converged yet.\n",
      "  warnings.warn(\n",
      "/Library/Frameworks/Python.framework/Versions/3.9/lib/python3.9/site-packages/skopt/optimizer/optimizer.py:449: UserWarning: The objective has been evaluated at this point before.\n",
      "  warnings.warn(\"The objective has been evaluated \"\n",
      "/Library/Frameworks/Python.framework/Versions/3.9/lib/python3.9/site-packages/sklearn/neural_network/_multilayer_perceptron.py:691: ConvergenceWarning: Stochastic Optimizer: Maximum iterations (200) reached and the optimization hasn't converged yet.\n",
      "  warnings.warn(\n",
      "/Library/Frameworks/Python.framework/Versions/3.9/lib/python3.9/site-packages/skopt/optimizer/optimizer.py:449: UserWarning: The objective has been evaluated at this point before.\n",
      "  warnings.warn(\"The objective has been evaluated \"\n",
      "/Library/Frameworks/Python.framework/Versions/3.9/lib/python3.9/site-packages/skopt/optimizer/optimizer.py:449: UserWarning: The objective has been evaluated at this point before.\n",
      "  warnings.warn(\"The objective has been evaluated \"\n",
      "/Library/Frameworks/Python.framework/Versions/3.9/lib/python3.9/site-packages/sklearn/neural_network/_multilayer_perceptron.py:691: ConvergenceWarning: Stochastic Optimizer: Maximum iterations (200) reached and the optimization hasn't converged yet.\n",
      "  warnings.warn(\n",
      "/Library/Frameworks/Python.framework/Versions/3.9/lib/python3.9/site-packages/skopt/optimizer/optimizer.py:449: UserWarning: The objective has been evaluated at this point before.\n",
      "  warnings.warn(\"The objective has been evaluated \"\n",
      "/Library/Frameworks/Python.framework/Versions/3.9/lib/python3.9/site-packages/sklearn/neural_network/_multilayer_perceptron.py:691: ConvergenceWarning: Stochastic Optimizer: Maximum iterations (200) reached and the optimization hasn't converged yet.\n",
      "  warnings.warn(\n",
      "/Library/Frameworks/Python.framework/Versions/3.9/lib/python3.9/site-packages/skopt/optimizer/optimizer.py:449: UserWarning: The objective has been evaluated at this point before.\n",
      "  warnings.warn(\"The objective has been evaluated \"\n",
      "/Library/Frameworks/Python.framework/Versions/3.9/lib/python3.9/site-packages/sklearn/neural_network/_multilayer_perceptron.py:691: ConvergenceWarning: Stochastic Optimizer: Maximum iterations (200) reached and the optimization hasn't converged yet.\n",
      "  warnings.warn(\n",
      "/Library/Frameworks/Python.framework/Versions/3.9/lib/python3.9/site-packages/sklearn/neural_network/_multilayer_perceptron.py:691: ConvergenceWarning: Stochastic Optimizer: Maximum iterations (200) reached and the optimization hasn't converged yet.\n",
      "  warnings.warn(\n",
      "/Library/Frameworks/Python.framework/Versions/3.9/lib/python3.9/site-packages/sklearn/neural_network/_multilayer_perceptron.py:691: ConvergenceWarning: Stochastic Optimizer: Maximum iterations (200) reached and the optimization hasn't converged yet.\n",
      "  warnings.warn(\n",
      "/Library/Frameworks/Python.framework/Versions/3.9/lib/python3.9/site-packages/skopt/optimizer/optimizer.py:449: UserWarning: The objective has been evaluated at this point before.\n",
      "  warnings.warn(\"The objective has been evaluated \"\n",
      "/Library/Frameworks/Python.framework/Versions/3.9/lib/python3.9/site-packages/sklearn/neural_network/_multilayer_perceptron.py:691: ConvergenceWarning: Stochastic Optimizer: Maximum iterations (200) reached and the optimization hasn't converged yet.\n",
      "  warnings.warn(\n",
      "/Library/Frameworks/Python.framework/Versions/3.9/lib/python3.9/site-packages/skopt/optimizer/optimizer.py:449: UserWarning: The objective has been evaluated at this point before.\n",
      "  warnings.warn(\"The objective has been evaluated \"\n"
     ]
    },
    {
     "name": "stdout",
     "output_type": "stream",
     "text": [
      "These MLP models took about  31.75 minutes to run\n"
     ]
    },
    {
     "name": "stderr",
     "output_type": "stream",
     "text": [
      "/Library/Frameworks/Python.framework/Versions/3.9/lib/python3.9/site-packages/sklearn/neural_network/_multilayer_perceptron.py:691: ConvergenceWarning: Stochastic Optimizer: Maximum iterations (200) reached and the optimization hasn't converged yet.\n",
      "  warnings.warn(\n"
     ]
    }
   ],
   "source": [
    "# Since this model is supposed to be strongest at finding complex relationships, lets use\n",
    "# the full dataset with all predictors and see if it can find anything the other models couldn't\n",
    "#\n",
    "# use BayesSearchCV to wrap the model, giving it different hyperparameters to try out\n",
    "# in MLP, will try different hidden layer sizes, activation settings, and learning rate settings\n",
    "#\n",
    "# Also setting cv to 3, which means in cross fold validation, the data will be divided into 3 parts, 2 parts \n",
    "# to be used as train data, and 1 part for test, then it will rotate to use the other 2 parts as train and the third\n",
    "# as test. Helps reduce over fitting. \n",
    "mlp = BayesSearchCV(\n",
    "    MLPClassifier(),\n",
    "    {\n",
    "        # These models take forever so lets leave hidden layer size at default of (100,)\n",
    "        # 'hidden_layer_sizes': ((10,), (50,), (100,)),\n",
    "        'activation': ('relu', 'tanh', 'logistic'),\n",
    "        'learning_rate': ('constant', 'invscaling', 'adaptive')\n",
    "    },\n",
    "    n_iter=32,\n",
    "    cv=3\n",
    ")\n",
    "\n",
    "# fit the model to the data\n",
    "np.int = int # some error related to skopt using np.int but np.int is deprecated in newer versions of numpy\n",
    "start = time.time()\n",
    "mlp.fit(x_train, y_train_array)\n",
    "end = time.time()\n",
    "print('These MLP models took about ', round((end - start) / 60, 2), 'minutes to run')\n",
    "\n",
    "# Note: convergence warnings mean the the model isn't finished improving itself at the default\n",
    "# max_iter=200, so could increase this, but training will take ever longer"
   ]
  },
  {
   "cell_type": "code",
   "execution_count": 141,
   "id": "80f0ab19-a1bd-47b1-b300-d52fe7f625df",
   "metadata": {},
   "outputs": [
    {
     "name": "stdout",
     "output_type": "stream",
     "text": [
      "OrderedDict([('activation', 'relu'), ('learning_rate', 'constant')])\n"
     ]
    }
   ],
   "source": [
    "print(mlp.best_params_)"
   ]
  },
  {
   "cell_type": "code",
   "execution_count": 139,
   "id": "11df9e8b-1923-4bff-b290-cecf6897aafe",
   "metadata": {},
   "outputs": [
    {
     "name": "stdout",
     "output_type": "stream",
     "text": [
      "0.885 (+/-0.0) for OrderedDict([('activation', 'relu'), ('learning_rate', 'constant')])\n",
      "0.886 (+/-0.0) for OrderedDict([('activation', 'relu'), ('learning_rate', 'constant')])\n",
      "0.885 (+/-0.002) for OrderedDict([('activation', 'relu'), ('learning_rate', 'invscaling')])\n",
      "0.886 (+/-0.0) for OrderedDict([('activation', 'relu'), ('learning_rate', 'constant')])\n",
      "0.884 (+/-0.001) for OrderedDict([('activation', 'logistic'), ('learning_rate', 'constant')])\n",
      "0.885 (+/-0.002) for OrderedDict([('activation', 'relu'), ('learning_rate', 'constant')])\n",
      "0.884 (+/-0.001) for OrderedDict([('activation', 'tanh'), ('learning_rate', 'adaptive')])\n",
      "0.884 (+/-0.002) for OrderedDict([('activation', 'logistic'), ('learning_rate', 'adaptive')])\n",
      "0.884 (+/-0.0) for OrderedDict([('activation', 'tanh'), ('learning_rate', 'constant')])\n",
      "0.885 (+/-0.0) for OrderedDict([('activation', 'relu'), ('learning_rate', 'adaptive')])\n",
      "0.884 (+/-0.001) for OrderedDict([('activation', 'logistic'), ('learning_rate', 'invscaling')])\n",
      "0.884 (+/-0.003) for OrderedDict([('activation', 'tanh'), ('learning_rate', 'invscaling')])\n",
      "0.884 (+/-0.002) for OrderedDict([('activation', 'relu'), ('learning_rate', 'invscaling')])\n",
      "0.885 (+/-0.001) for OrderedDict([('activation', 'relu'), ('learning_rate', 'constant')])\n",
      "0.885 (+/-0.001) for OrderedDict([('activation', 'logistic'), ('learning_rate', 'invscaling')])\n",
      "0.885 (+/-0.0) for OrderedDict([('activation', 'relu'), ('learning_rate', 'constant')])\n",
      "0.884 (+/-0.002) for OrderedDict([('activation', 'tanh'), ('learning_rate', 'adaptive')])\n",
      "0.886 (+/-0.0) for OrderedDict([('activation', 'relu'), ('learning_rate', 'constant')])\n",
      "0.885 (+/-0.001) for OrderedDict([('activation', 'logistic'), ('learning_rate', 'constant')])\n",
      "0.884 (+/-0.002) for OrderedDict([('activation', 'tanh'), ('learning_rate', 'invscaling')])\n",
      "0.885 (+/-0.001) for OrderedDict([('activation', 'relu'), ('learning_rate', 'invscaling')])\n",
      "0.885 (+/-0.0) for OrderedDict([('activation', 'logistic'), ('learning_rate', 'invscaling')])\n",
      "0.885 (+/-0.001) for OrderedDict([('activation', 'relu'), ('learning_rate', 'constant')])\n",
      "0.884 (+/-0.002) for OrderedDict([('activation', 'tanh'), ('learning_rate', 'constant')])\n",
      "0.884 (+/-0.002) for OrderedDict([('activation', 'tanh'), ('learning_rate', 'invscaling')])\n",
      "0.885 (+/-0.001) for OrderedDict([('activation', 'relu'), ('learning_rate', 'constant')])\n",
      "0.885 (+/-0.002) for OrderedDict([('activation', 'relu'), ('learning_rate', 'constant')])\n",
      "0.885 (+/-0.001) for OrderedDict([('activation', 'relu'), ('learning_rate', 'constant')])\n",
      "0.885 (+/-0.003) for OrderedDict([('activation', 'relu'), ('learning_rate', 'constant')])\n",
      "0.884 (+/-0.001) for OrderedDict([('activation', 'tanh'), ('learning_rate', 'invscaling')])\n",
      "0.885 (+/-0.0) for OrderedDict([('activation', 'relu'), ('learning_rate', 'constant')])\n",
      "0.886 (+/-0.0) for OrderedDict([('activation', 'relu'), ('learning_rate', 'constant')])\n"
     ]
    }
   ],
   "source": [
    "# Check results of all hyperparameter combos that BayesSearchCV checked\n",
    "means = mlp.cv_results_['mean_test_score']\n",
    "stds = mlp.cv_results_['std_test_score']\n",
    "for mean, std, params in zip(means, stds, mlp.cv_results_['params']):\n",
    "\tprint('{} (+/-{}) for {}'.format(round(mean, 3), round(std * 2, 3), params))"
   ]
  },
  {
   "cell_type": "code",
   "execution_count": 143,
   "id": "1f1f7ad9-63a1-4fd1-9b7a-1db98feffce6",
   "metadata": {},
   "outputs": [
    {
     "name": "stdout",
     "output_type": "stream",
     "text": [
      "In the true data, 2812 were readmitted, while 22177 were not\n",
      "The model predicted that, 73 were readmitted, while 24916 were not\n"
     ]
    },
    {
     "data": {
      "image/png": "[encoded data removed]",
      "text/plain": [
       "<Figure size 640x480 with 2 Axes>"
      ]
     },
     "metadata": {},
     "output_type": "display_data"
    },
    {
     "name": "stdout",
     "output_type": "stream",
     "text": [
      "Multilayer Perceptron found accuracy: 88.695%, precision: 41.096%, recall: 1.067%\n"
     ]
    }
   ],
   "source": [
    "# Will use best hyperparameters found above, although the results aren't any better than\n",
    "# previous models. Will also increase max_iter, so that hopefully this model will converge\n",
    "mlp2 = MLPClassifier(activation='relu', learning_rate='constant', max_iter=500)\n",
    "mlp2.fit(x_train_reduced, y_train_array)\n",
    "\n",
    "y_pred_mlp = mlp2.predict(x_test_reduced) # get the predicted y-values\n",
    "print('In the true data, ' + str(y_test_array.count(1)) + ' were readmitted, while ' + str(y_test_array.count(0)) + ' were not')\n",
    "print('The model predicted that, ' + str(y_pred_mlp.tolist().count(1)) + ' were readmitted, while ' + str(y_pred_mlp.tolist().count(0)) + ' were not')\n",
    "\n",
    "confusionMatrix(y_pred_mlp)\n",
    "describeModelResults('Multilayer Perceptron', y_pred_mlp)"
   ]
  },
  {
   "cell_type": "code",
   "execution_count": null,
   "id": "451c32ef-0aab-40c8-b0d8-b8426499cbb6",
   "metadata": {},
   "outputs": [],
   "source": [
    "# Results of best MLP model are dismally similar to other models, with 88.6% accuracy\n",
    "# and favoring placing the vast majority of people in the majority group.  I could change\n",
    "# probabilities here to improve recall as I did with random forest, but the cost to\n",
    "# precision will be high"
   ]
  },
  {
   "cell_type": "code",
   "execution_count": null,
   "id": "d2b9e933-55b1-4c61-90de-bbc5a63685c5",
   "metadata": {},
   "outputs": [],
   "source": [
    "# Model #5: K-Nearest Neighbors Classifier\n",
    "# print some info about the model\n",
    "# print(help(KNeighborsClassifier))"
   ]
  },
  {
   "cell_type": "code",
   "execution_count": 146,
   "id": "01c1fd3a-772e-4c59-9b90-050eb9ed14cf",
   "metadata": {},
   "outputs": [
    {
     "name": "stderr",
     "output_type": "stream",
     "text": [
      "/Library/Frameworks/Python.framework/Versions/3.9/lib/python3.9/site-packages/skopt/optimizer/optimizer.py:449: UserWarning: The objective has been evaluated at this point before.\n",
      "  warnings.warn(\"The objective has been evaluated \"\n",
      "/Library/Frameworks/Python.framework/Versions/3.9/lib/python3.9/site-packages/skopt/optimizer/optimizer.py:449: UserWarning: The objective has been evaluated at this point before.\n",
      "  warnings.warn(\"The objective has been evaluated \"\n",
      "/Library/Frameworks/Python.framework/Versions/3.9/lib/python3.9/site-packages/skopt/optimizer/optimizer.py:449: UserWarning: The objective has been evaluated at this point before.\n",
      "  warnings.warn(\"The objective has been evaluated \"\n",
      "/Library/Frameworks/Python.framework/Versions/3.9/lib/python3.9/site-packages/skopt/optimizer/optimizer.py:449: UserWarning: The objective has been evaluated at this point before.\n",
      "  warnings.warn(\"The objective has been evaluated \"\n",
      "/Library/Frameworks/Python.framework/Versions/3.9/lib/python3.9/site-packages/skopt/optimizer/optimizer.py:449: UserWarning: The objective has been evaluated at this point before.\n",
      "  warnings.warn(\"The objective has been evaluated \"\n",
      "/Library/Frameworks/Python.framework/Versions/3.9/lib/python3.9/site-packages/skopt/optimizer/optimizer.py:449: UserWarning: The objective has been evaluated at this point before.\n",
      "  warnings.warn(\"The objective has been evaluated \"\n",
      "/Library/Frameworks/Python.framework/Versions/3.9/lib/python3.9/site-packages/skopt/optimizer/optimizer.py:449: UserWarning: The objective has been evaluated at this point before.\n",
      "  warnings.warn(\"The objective has been evaluated \"\n",
      "/Library/Frameworks/Python.framework/Versions/3.9/lib/python3.9/site-packages/skopt/optimizer/optimizer.py:449: UserWarning: The objective has been evaluated at this point before.\n",
      "  warnings.warn(\"The objective has been evaluated \"\n",
      "/Library/Frameworks/Python.framework/Versions/3.9/lib/python3.9/site-packages/skopt/optimizer/optimizer.py:449: UserWarning: The objective has been evaluated at this point before.\n",
      "  warnings.warn(\"The objective has been evaluated \"\n",
      "/Library/Frameworks/Python.framework/Versions/3.9/lib/python3.9/site-packages/skopt/optimizer/optimizer.py:449: UserWarning: The objective has been evaluated at this point before.\n",
      "  warnings.warn(\"The objective has been evaluated \"\n",
      "/Library/Frameworks/Python.framework/Versions/3.9/lib/python3.9/site-packages/skopt/optimizer/optimizer.py:449: UserWarning: The objective has been evaluated at this point before.\n",
      "  warnings.warn(\"The objective has been evaluated \"\n",
      "/Library/Frameworks/Python.framework/Versions/3.9/lib/python3.9/site-packages/skopt/optimizer/optimizer.py:449: UserWarning: The objective has been evaluated at this point before.\n",
      "  warnings.warn(\"The objective has been evaluated \"\n",
      "/Library/Frameworks/Python.framework/Versions/3.9/lib/python3.9/site-packages/skopt/optimizer/optimizer.py:449: UserWarning: The objective has been evaluated at this point before.\n",
      "  warnings.warn(\"The objective has been evaluated \"\n",
      "/Library/Frameworks/Python.framework/Versions/3.9/lib/python3.9/site-packages/skopt/optimizer/optimizer.py:449: UserWarning: The objective has been evaluated at this point before.\n",
      "  warnings.warn(\"The objective has been evaluated \"\n",
      "/Library/Frameworks/Python.framework/Versions/3.9/lib/python3.9/site-packages/skopt/optimizer/optimizer.py:449: UserWarning: The objective has been evaluated at this point before.\n",
      "  warnings.warn(\"The objective has been evaluated \"\n",
      "/Library/Frameworks/Python.framework/Versions/3.9/lib/python3.9/site-packages/skopt/optimizer/optimizer.py:449: UserWarning: The objective has been evaluated at this point before.\n",
      "  warnings.warn(\"The objective has been evaluated \"\n",
      "/Library/Frameworks/Python.framework/Versions/3.9/lib/python3.9/site-packages/skopt/optimizer/optimizer.py:449: UserWarning: The objective has been evaluated at this point before.\n",
      "  warnings.warn(\"The objective has been evaluated \"\n"
     ]
    },
    {
     "name": "stdout",
     "output_type": "stream",
     "text": [
      "These K-nearest neighbors models took about  2.9 minutes to run\n"
     ]
    }
   ],
   "source": [
    "# use BayesSearchCV to wrap the model, giving it different hyperparameters to try out\n",
    "# in KNeighbors, will try different neighbors, weights, and leaf size\n",
    "#\n",
    "# Also setting cv to 3, which means in cross fold validation, the data will be divided into 3 parts, 2 parts \n",
    "# to be used as train data, and 1 part for test, then it will rotate to use the other 2 parts as train and the third\n",
    "# as test. Helps reduce over fitting. \n",
    "kn = BayesSearchCV(\n",
    "    KNeighborsClassifier(),\n",
    "    {\n",
    "        'n_neighbors': (3, 5, 7),\n",
    "        'weights': ('uniform', 'distance'),\n",
    "        # 'algorithm': ('auto', 'ball_tree', 'kd_tree', 'brute') # for sake of time, lets leave auto so it decides\n",
    "        'leaf_size': (10, 30, 50)\n",
    "    },\n",
    "    n_iter=32,\n",
    "    cv=3\n",
    ")\n",
    "\n",
    "# fit the model to the data\n",
    "np.int = int # some error related to skopt using np.int but np.int is deprecated in newer versions of numpy\n",
    "start = time.time()\n",
    "kn.fit(x_train, y_train_array)\n",
    "end = time.time()\n",
    "print('These K-nearest neighbors models took about ', round((end - start) / 60, 2), 'minutes to run')\n",
    "\n"
   ]
  },
  {
   "cell_type": "code",
   "execution_count": 147,
   "id": "6edb3cb1-e214-4d42-a697-958364d30c65",
   "metadata": {},
   "outputs": [
    {
     "name": "stdout",
     "output_type": "stream",
     "text": [
      "OrderedDict([('leaf_size', 50), ('n_neighbors', 7), ('weights', 'uniform')])\n"
     ]
    }
   ],
   "source": [
    "print(kn.best_params_)"
   ]
  },
  {
   "cell_type": "code",
   "execution_count": 148,
   "id": "6f81f67a-395b-45ca-b5c1-4afaa8783f65",
   "metadata": {},
   "outputs": [
    {
     "name": "stdout",
     "output_type": "stream",
     "text": [
      "0.883 (+/-0.001) for OrderedDict([('leaf_size', 50), ('n_neighbors', 7), ('weights', 'uniform')])\n",
      "0.883 (+/-0.001) for OrderedDict([('leaf_size', 30), ('n_neighbors', 7), ('weights', 'uniform')])\n",
      "0.878 (+/-0.001) for OrderedDict([('leaf_size', 50), ('n_neighbors', 5), ('weights', 'uniform')])\n",
      "0.883 (+/-0.001) for OrderedDict([('leaf_size', 50), ('n_neighbors', 7), ('weights', 'distance')])\n",
      "0.878 (+/-0.001) for OrderedDict([('leaf_size', 30), ('n_neighbors', 5), ('weights', 'distance')])\n",
      "0.878 (+/-0.001) for OrderedDict([('leaf_size', 30), ('n_neighbors', 5), ('weights', 'distance')])\n",
      "0.862 (+/-0.002) for OrderedDict([('leaf_size', 30), ('n_neighbors', 3), ('weights', 'distance')])\n",
      "0.878 (+/-0.001) for OrderedDict([('leaf_size', 30), ('n_neighbors', 5), ('weights', 'uniform')])\n",
      "0.883 (+/-0.001) for OrderedDict([('leaf_size', 10), ('n_neighbors', 7), ('weights', 'distance')])\n",
      "0.878 (+/-0.001) for OrderedDict([('leaf_size', 10), ('n_neighbors', 5), ('weights', 'uniform')])\n",
      "0.878 (+/-0.001) for OrderedDict([('leaf_size', 50), ('n_neighbors', 5), ('weights', 'distance')])\n",
      "0.883 (+/-0.001) for OrderedDict([('leaf_size', 10), ('n_neighbors', 7), ('weights', 'distance')])\n",
      "0.862 (+/-0.002) for OrderedDict([('leaf_size', 30), ('n_neighbors', 3), ('weights', 'uniform')])\n",
      "0.878 (+/-0.001) for OrderedDict([('leaf_size', 30), ('n_neighbors', 5), ('weights', 'distance')])\n",
      "0.883 (+/-0.001) for OrderedDict([('leaf_size', 30), ('n_neighbors', 7), ('weights', 'distance')])\n",
      "0.883 (+/-0.001) for OrderedDict([('leaf_size', 10), ('n_neighbors', 7), ('weights', 'uniform')])\n",
      "0.878 (+/-0.001) for OrderedDict([('leaf_size', 30), ('n_neighbors', 5), ('weights', 'uniform')])\n",
      "0.862 (+/-0.002) for OrderedDict([('leaf_size', 30), ('n_neighbors', 3), ('weights', 'uniform')])\n",
      "0.862 (+/-0.002) for OrderedDict([('leaf_size', 30), ('n_neighbors', 3), ('weights', 'uniform')])\n",
      "0.878 (+/-0.001) for OrderedDict([('leaf_size', 10), ('n_neighbors', 5), ('weights', 'distance')])\n",
      "0.883 (+/-0.001) for OrderedDict([('leaf_size', 30), ('n_neighbors', 7), ('weights', 'distance')])\n",
      "0.878 (+/-0.001) for OrderedDict([('leaf_size', 10), ('n_neighbors', 5), ('weights', 'uniform')])\n",
      "0.883 (+/-0.001) for OrderedDict([('leaf_size', 50), ('n_neighbors', 7), ('weights', 'uniform')])\n",
      "0.883 (+/-0.001) for OrderedDict([('leaf_size', 10), ('n_neighbors', 7), ('weights', 'uniform')])\n",
      "0.878 (+/-0.001) for OrderedDict([('leaf_size', 30), ('n_neighbors', 5), ('weights', 'distance')])\n",
      "0.878 (+/-0.001) for OrderedDict([('leaf_size', 10), ('n_neighbors', 5), ('weights', 'uniform')])\n",
      "0.883 (+/-0.001) for OrderedDict([('leaf_size', 30), ('n_neighbors', 7), ('weights', 'uniform')])\n",
      "0.878 (+/-0.001) for OrderedDict([('leaf_size', 10), ('n_neighbors', 5), ('weights', 'distance')])\n",
      "0.878 (+/-0.001) for OrderedDict([('leaf_size', 30), ('n_neighbors', 5), ('weights', 'uniform')])\n",
      "0.883 (+/-0.001) for OrderedDict([('leaf_size', 50), ('n_neighbors', 7), ('weights', 'uniform')])\n",
      "0.862 (+/-0.002) for OrderedDict([('leaf_size', 30), ('n_neighbors', 3), ('weights', 'distance')])\n",
      "0.883 (+/-0.001) for OrderedDict([('leaf_size', 10), ('n_neighbors', 7), ('weights', 'uniform')])\n"
     ]
    }
   ],
   "source": [
    "# Check results of all hyperparameter combos that BayesSearchCV checked\n",
    "means = kn.cv_results_['mean_test_score']\n",
    "stds = kn.cv_results_['std_test_score']\n",
    "for mean, std, params in zip(means, stds, kn.cv_results_['params']):\n",
    "\tprint('{} (+/-{}) for {}'.format(round(mean, 3), round(std * 2, 3), params))"
   ]
  },
  {
   "cell_type": "code",
   "execution_count": 149,
   "id": "ddd5f42f-e7ff-4a6e-bea4-59c789db42c7",
   "metadata": {},
   "outputs": [
    {
     "data": {
      "text/html": [
       "<style>#sk-container-id-3 {color: black;}#sk-container-id-3 pre{padding: 0;}#sk-container-id-3 div.sk-toggleable {background-color: white;}#sk-container-id-3 label.sk-toggleable__label {cursor: pointer;display: block;width: 100%;margin-bottom: 0;padding: 0.3em;box-sizing: border-box;text-align: center;}#sk-container-id-3 label.sk-toggleable__label-arrow:before {content: \"▸\";float: left;margin-right: 0.25em;color: #696969;}#sk-container-id-3 label.sk-toggleable__label-arrow:hover:before {color: black;}#sk-container-id-3 div.sk-estimator:hover label.sk-toggleable__label-arrow:before {color: black;}#sk-container-id-3 div.sk-toggleable__content {max-height: 0;max-width: 0;overflow: hidden;text-align: left;background-color: #f0f8ff;}#sk-container-id-3 div.sk-toggleable__content pre {margin: 0.2em;color: black;border-radius: 0.25em;background-color: #f0f8ff;}#sk-container-id-3 input.sk-toggleable__control:checked~div.sk-toggleable__content {max-height: 200px;max-width: 100%;overflow: auto;}#sk-container-id-3 input.sk-toggleable__control:checked~label.sk-toggleable__label-arrow:before {content: \"▾\";}#sk-container-id-3 div.sk-estimator input.sk-toggleable__control:checked~label.sk-toggleable__label {background-color: #d4ebff;}#sk-container-id-3 div.sk-label input.sk-toggleable__control:checked~label.sk-toggleable__label {background-color: #d4ebff;}#sk-container-id-3 input.sk-hidden--visually {border: 0;clip: rect(1px 1px 1px 1px);clip: rect(1px, 1px, 1px, 1px);height: 1px;margin: -1px;overflow: hidden;padding: 0;position: absolute;width: 1px;}#sk-container-id-3 div.sk-estimator {font-family: monospace;background-color: #f0f8ff;border: 1px dotted black;border-radius: 0.25em;box-sizing: border-box;margin-bottom: 0.5em;}#sk-container-id-3 div.sk-estimator:hover {background-color: #d4ebff;}#sk-container-id-3 div.sk-parallel-item::after {content: \"\";width: 100%;border-bottom: 1px solid gray;flex-grow: 1;}#sk-container-id-3 div.sk-label:hover label.sk-toggleable__label {background-color: #d4ebff;}#sk-container-id-3 div.sk-serial::before {content: \"\";position: absolute;border-left: 1px solid gray;box-sizing: border-box;top: 0;bottom: 0;left: 50%;z-index: 0;}#sk-container-id-3 div.sk-serial {display: flex;flex-direction: column;align-items: center;background-color: white;padding-right: 0.2em;padding-left: 0.2em;position: relative;}#sk-container-id-3 div.sk-item {position: relative;z-index: 1;}#sk-container-id-3 div.sk-parallel {display: flex;align-items: stretch;justify-content: center;background-color: white;position: relative;}#sk-container-id-3 div.sk-item::before, #sk-container-id-3 div.sk-parallel-item::before {content: \"\";position: absolute;border-left: 1px solid gray;box-sizing: border-box;top: 0;bottom: 0;left: 50%;z-index: -1;}#sk-container-id-3 div.sk-parallel-item {display: flex;flex-direction: column;z-index: 1;position: relative;background-color: white;}#sk-container-id-3 div.sk-parallel-item:first-child::after {align-self: flex-end;width: 50%;}#sk-container-id-3 div.sk-parallel-item:last-child::after {align-self: flex-start;width: 50%;}#sk-container-id-3 div.sk-parallel-item:only-child::after {width: 0;}#sk-container-id-3 div.sk-dashed-wrapped {border: 1px dashed gray;margin: 0 0.4em 0.5em 0.4em;box-sizing: border-box;padding-bottom: 0.4em;background-color: white;}#sk-container-id-3 div.sk-label label {font-family: monospace;font-weight: bold;display: inline-block;line-height: 1.2em;}#sk-container-id-3 div.sk-label-container {text-align: center;}#sk-container-id-3 div.sk-container {/* jupyter's `normalize.less` sets `[hidden] { display: none; }` but bootstrap.min.css set `[hidden] { display: none !important; }` so we also need the `!important` here to be able to override the default hidden behavior on the sphinx rendered scikit-learn.org. See: https://github.com/scikit-learn/scikit-learn/issues/21755 */display: inline-block !important;position: relative;}#sk-container-id-3 div.sk-text-repr-fallback {display: none;}</style><div id=\"sk-container-id-3\" class=\"sk-top-container\"><div class=\"sk-text-repr-fallback\"><pre>KNeighborsClassifier(leaf_size=50, n_neighbors=7)</pre><b>In a Jupyter environment, please rerun this cell to show the HTML representation or trust the notebook. <br />On GitHub, the HTML representation is unable to render, please try loading this page with nbviewer.org.</b></div><div class=\"sk-container\" hidden><div class=\"sk-item\"><div class=\"sk-estimator sk-toggleable\"><input class=\"sk-toggleable__control sk-hidden--visually\" id=\"sk-estimator-id-7\" type=\"checkbox\" checked><label for=\"sk-estimator-id-7\" class=\"sk-toggleable__label sk-toggleable__label-arrow\">KNeighborsClassifier</label><div class=\"sk-toggleable__content\"><pre>KNeighborsClassifier(leaf_size=50, n_neighbors=7)</pre></div></div></div></div></div>"
      ],
      "text/plain": [
       "KNeighborsClassifier(leaf_size=50, n_neighbors=7)"
      ]
     },
     "execution_count": 149,
     "metadata": {},
     "output_type": "execute_result"
    }
   ],
   "source": [
    "kn2 = KNeighborsClassifier(leaf_size=50, n_neighbors=7, weights='uniform')\n",
    "kn2.fit(x_train, y_train_array)"
   ]
  },
  {
   "cell_type": "code",
   "execution_count": 152,
   "id": "73307ebd-ba97-4297-86ef-de5bd60b36c7",
   "metadata": {},
   "outputs": [
    {
     "name": "stdout",
     "output_type": "stream",
     "text": [
      "In the true data, 2812 were readmitted, while 22177 were not\n",
      "The model predicted that, 191 were readmitted, while 24798 were not\n"
     ]
    },
    {
     "data": {
      "image/png": "[encoded data removed]",
      "text/plain": [
       "<Figure size 640x480 with 2 Axes>"
      ]
     },
     "metadata": {},
     "output_type": "display_data"
    },
    {
     "name": "stdout",
     "output_type": "stream",
     "text": [
      "KNeighborsClassifier found accuracy: 88.447%, precision: 30.366%, recall: 2.063%\n"
     ]
    }
   ],
   "source": [
    "y_pred_kn = kn2.predict(x_test) # get the predicted y-values\n",
    "print('In the true data, ' + str(y_test_array.count(1)) + ' were readmitted, while ' + str(y_test_array.count(0)) + ' were not')\n",
    "print('The model predicted that, ' + str(y_pred_kn.tolist().count(1)) + ' were readmitted, while ' + str(y_pred_kn.tolist().count(0)) + ' were not')\n",
    "\n",
    "confusionMatrix(y_pred_kn)\n",
    "describeModelResults('KNeighborsClassifier', y_pred_kn)"
   ]
  },
  {
   "cell_type": "code",
   "execution_count": null,
   "id": "3bb9c1e9-9a38-4b62-a591-63146556390c",
   "metadata": {},
   "outputs": [],
   "source": [
    "# Model                         accuracy   precision    recall\n",
    "# Logistic Regression           88.731%    47.619%      1.422%\n",
    "# Random Forest Classifier      88.783%    66.667%      0.64%\n",
    "# Gradient Boosting Classifier  88.747%    50.0%        0.605%\n",
    "# Multilayer Perceptron         88.695%    41.096%      1.067%\n",
    "# K-Neighbors Classifier        88.447%    30.366%      2.063%\n",
    "#\n",
    "# RandomForestClassifier details:\n",
    "#    Best hyperparameters combo I found: ('max_depth', 20), ('n_estimators', 100)])\n",
    "#    To better favor precision, explored different thresholds. For instance:\n",
    "#    At threshold: 0.07, predicted readmitted: 19882, predicted not readmitted: 19558, accuracy: 29.737%, precision: 12.916%, recall: 91.323%\n",
    "#    At threshold: 0.05, predicted readmitted: 24129, predicted not readmitted: 19558, accuracy: 14.414%, precision: 11.509%, recall: 98.755%\n",
    "# Gradient Boosting Classifier details:\n",
    "#    Best hyperparameters combo I found: ('learning_rate', 0.1), ('max_depth', 3), ('n_estimators', 50)\n",
    "# Logistic Regression Details:\n",
    "#    Best model had default hyperparameters\n",
    "#    3 strongest predictors were \n",
    "#    - discharge disposition, \n",
    "#    - number of inpatient visits in past year\n",
    "#    - change in diabetes med \n",
    "# Multilayer Perceptron details:\n",
    "#    Best hyperparameters combo I found: ('activation', 'relu'), ('learning_rate', 'constant')\n",
    "# KNeighborsClassifier details:\n",
    "#    Best hyperparameters combo I found: ('leaf_size', 50), ('n_neighbors', 7), ('weights', 'uniform')\n",
    "# "
   ]
  },
  {
   "cell_type": "code",
   "execution_count": null,
   "id": "b657d58f-aef8-4df1-ad26-d08a7b201e00",
   "metadata": {},
   "outputs": [],
   "source": [
    "# Lessons learned\n",
    "#\n",
    "# Although these rates are all pretty similar, Random Forest Classifier stands out as the strongest\n",
    "# followed by Gradient Boosting Classifier.\n",
    "#\n",
    "# All models struggled to differentiate pts destined to be readmitted in 30 days from those who weren't based on predictors available.\n",
    "# Including predictors not found to have a linear relationship with the outcome (but could have some other complex relationships)\n",
    "# did not help in models where both datasets were tried.\n",
    "#\n",
    "# When tuned by default to prioritize accuracy, the highest accuracy rate of 88.8% is little better than a prediction that 0 \n",
    "# patients would be re-hospitalized in 30 days, which would be correct 88.7% of the time\n",
    "#\n",
    "# When the best model was tuned to prioritize precision, we'd have to assume that just over half of all patients are at risk of \n",
    "# being re-hosp in order to capture almost all of the 11% who will be re-hosp. \n",
    "#\n",
    "# Next steps\n",
    "#\n",
    "# To move forward, I'd return to the data and try the following:\n",
    "# - Standardize/center continuous predictors, and transform those whose distributions are skewed\n",
    "# - Re-look at some predictors removed, such as comorbid diagnoses with someone with medical expertise\n",
    "# - Re-look at categorical variables, consider bringing back some diversity in categories that I'd originally merged and consider\n",
    "#   re-coding to be roughly ordinal wherever theoretically possible (e.g., admission status of emergency, urgent, elective, trauma \n",
    "#   could be coded as ordinal)\n",
    "# - Consider strategies to make the outcome categories more balanced which might help some algorithms\n",
    "# - Try SVM, although it's not usually recommended for tall data with tons of rows and not that many predictors"
   ]
  },
  {
   "cell_type": "code",
   "execution_count": 153,
   "id": "593d82bd-0e00-4b88-aaa3-9f1f338349cb",
   "metadata": {},
   "outputs": [
    {
     "data": {
      "text/plain": [
       "['../RandomForestClassifier.pkl']"
      ]
     },
     "execution_count": 153,
     "metadata": {},
     "output_type": "execute_result"
    }
   ],
   "source": [
    "# pickle the best model and save to a file\n",
    "joblib.dump(rf3, './RandomForestClassifier.pkl')"
   ]
  }
 ],
 "metadata": {
  "kernelspec": {
   "display_name": "Python 3 (ipykernel)",
   "language": "python",
   "name": "python3"
  },
  "language_info": {
   "codemirror_mode": {
    "name": "ipython",
    "version": 3
   },
   "file_extension": ".py",
   "mimetype": "text/x-python",
   "name": "python",
   "nbconvert_exporter": "python",
   "pygments_lexer": "ipython3",
   "version": "3.9.7"
  }
 },
 "nbformat": 4,
 "nbformat_minor": 5
}
